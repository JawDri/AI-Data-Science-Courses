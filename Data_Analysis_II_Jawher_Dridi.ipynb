{
  "nbformat": 4,
  "nbformat_minor": 0,
  "metadata": {
    "colab": {
      "name": "Data Analysis II : Jawher Dridi.ipynb",
      "provenance": [],
      "toc_visible": true
    },
    "kernelspec": {
      "name": "python3",
      "display_name": "Python 3"
    }
  },
  "cells": [
    {
      "cell_type": "markdown",
      "metadata": {
        "id": "YwSYImvd4jdJ",
        "colab_type": "text"
      },
      "source": [
        "# *Data Analysis - Homework 2*\n",
        "*Jawher DRIDI*"
      ]
    },
    {
      "cell_type": "code",
      "metadata": {
        "id": "UTQQVD8U4yzI",
        "colab_type": "code",
        "colab": {}
      },
      "source": [
        "# import necessary libraries\n",
        "import pandas as pd # pandas\n",
        "import seaborn as sns # seaborn package to generate nice plots\n",
        "import matplotlib.pyplot as plt # matplotlib\n",
        "import numpy as np # numpy"
      ],
      "execution_count": 0,
      "outputs": []
    },
    {
      "cell_type": "code",
      "metadata": {
        "id": "FL5lvybT4_BR",
        "colab_type": "code",
        "colab": {}
      },
      "source": [
        "# read data\n",
        "in_dd=pd.read_csv('/content/tn_stock_data_2018.csv.gz')\n",
        "# convert date from string to datetime type\n",
        "in_dd.date=pd.to_datetime(in_dd.date,format='%d/%m/%y')"
      ],
      "execution_count": 0,
      "outputs": []
    },
    {
      "cell_type": "code",
      "metadata": {
        "id": "l3LWEdOv5HU8",
        "colab_type": "code",
        "outputId": "ed7bc127-75d9-49e4-aad4-6690097fc30d",
        "colab": {
          "base_uri": "https://localhost:8080/",
          "height": 186
        }
      },
      "source": [
        "# show top observations from the data\n",
        "in_dd.head(3)"
      ],
      "execution_count": 417,
      "outputs": [
        {
          "output_type": "execute_result",
          "data": {
            "text/html": [
              "<div>\n",
              "<style scoped>\n",
              "    .dataframe tbody tr th:only-of-type {\n",
              "        vertical-align: middle;\n",
              "    }\n",
              "\n",
              "    .dataframe tbody tr th {\n",
              "        vertical-align: top;\n",
              "    }\n",
              "\n",
              "    .dataframe thead th {\n",
              "        text-align: right;\n",
              "    }\n",
              "</style>\n",
              "<table border=\"1\" class=\"dataframe\">\n",
              "  <thead>\n",
              "    <tr style=\"text-align: right;\">\n",
              "      <th></th>\n",
              "      <th>date</th>\n",
              "      <th>C_GR_RLC</th>\n",
              "      <th>company_code</th>\n",
              "      <th>company</th>\n",
              "      <th>ref_price</th>\n",
              "      <th>yesterday_price</th>\n",
              "      <th>open</th>\n",
              "      <th>last</th>\n",
              "      <th>close</th>\n",
              "      <th>low</th>\n",
              "      <th>high</th>\n",
              "      <th>qty_traded</th>\n",
              "      <th>num_trades</th>\n",
              "      <th>value</th>\n",
              "      <th>I</th>\n",
              "    </tr>\n",
              "  </thead>\n",
              "  <tbody>\n",
              "    <tr>\n",
              "      <th>0</th>\n",
              "      <td>2018-01-02</td>\n",
              "      <td>11</td>\n",
              "      <td>725001</td>\n",
              "      <td>ADWYA</td>\n",
              "      <td>5.35</td>\n",
              "      <td>5.35</td>\n",
              "      <td>5.25</td>\n",
              "      <td>5.39</td>\n",
              "      <td>5.39</td>\n",
              "      <td>5.25</td>\n",
              "      <td>5.39</td>\n",
              "      <td>2926</td>\n",
              "      <td>7</td>\n",
              "      <td>15635.50</td>\n",
              "      <td>NaN</td>\n",
              "    </tr>\n",
              "    <tr>\n",
              "      <th>1</th>\n",
              "      <td>2018-01-02</td>\n",
              "      <td>11</td>\n",
              "      <td>340005</td>\n",
              "      <td>AMEN BANK</td>\n",
              "      <td>24.35</td>\n",
              "      <td>24.35</td>\n",
              "      <td>24.38</td>\n",
              "      <td>24.00</td>\n",
              "      <td>24.00</td>\n",
              "      <td>24.00</td>\n",
              "      <td>24.38</td>\n",
              "      <td>1519</td>\n",
              "      <td>12</td>\n",
              "      <td>36918.00</td>\n",
              "      <td>NaN</td>\n",
              "    </tr>\n",
              "    <tr>\n",
              "      <th>2</th>\n",
              "      <td>2018-01-02</td>\n",
              "      <td>11</td>\n",
              "      <td>730001</td>\n",
              "      <td>ARTES</td>\n",
              "      <td>6.27</td>\n",
              "      <td>6.20</td>\n",
              "      <td>6.27</td>\n",
              "      <td>6.10</td>\n",
              "      <td>6.10</td>\n",
              "      <td>6.09</td>\n",
              "      <td>6.27</td>\n",
              "      <td>35875</td>\n",
              "      <td>67</td>\n",
              "      <td>219020.05</td>\n",
              "      <td>NaN</td>\n",
              "    </tr>\n",
              "  </tbody>\n",
              "</table>\n",
              "</div>"
            ],
            "text/plain": [
              "        date  C_GR_RLC  company_code  ... num_trades      value    I\n",
              "0 2018-01-02        11        725001  ...          7   15635.50  NaN\n",
              "1 2018-01-02        11        340005  ...         12   36918.00  NaN\n",
              "2 2018-01-02        11        730001  ...         67  219020.05  NaN\n",
              "\n",
              "[3 rows x 15 columns]"
            ]
          },
          "metadata": {
            "tags": []
          },
          "execution_count": 417
        }
      ]
    },
    {
      "cell_type": "code",
      "metadata": {
        "id": "PhJ_VfGC5KUU",
        "colab_type": "code",
        "outputId": "0fbee097-7511-4c9b-ffe2-308dc1db34b9",
        "colab": {
          "base_uri": "https://localhost:8080/",
          "height": 34
        }
      },
      "source": [
        "# check how many companies are in the data: 84 companies\n",
        "len(in_dd.company.unique())"
      ],
      "execution_count": 418,
      "outputs": [
        {
          "output_type": "execute_result",
          "data": {
            "text/plain": [
              "84"
            ]
          },
          "metadata": {
            "tags": []
          },
          "execution_count": 418
        }
      ]
    },
    {
      "cell_type": "code",
      "metadata": {
        "id": "jGlAmHkG5OCJ",
        "colab_type": "code",
        "colab": {}
      },
      "source": [
        "# calculate daily return for every company\n",
        "in_dd['currReturn']=in_dd.groupby(['company'])['close'].pct_change()"
      ],
      "execution_count": 0,
      "outputs": []
    },
    {
      "cell_type": "code",
      "metadata": {
        "id": "1GQHruCUGsaT",
        "colab_type": "code",
        "outputId": "489b2f18-9d8a-4cec-f3ff-1a714bd56e06",
        "colab": {
          "base_uri": "https://localhost:8080/",
          "height": 302
        }
      },
      "source": [
        "# determine missing values\n",
        "in_dd.isna().sum()"
      ],
      "execution_count": 420,
      "outputs": [
        {
          "output_type": "execute_result",
          "data": {
            "text/plain": [
              "date                   0\n",
              "C_GR_RLC               0\n",
              "company_code           0\n",
              "company                0\n",
              "ref_price              0\n",
              "yesterday_price        0\n",
              "open                   0\n",
              "last                   0\n",
              "close                  0\n",
              "low                    0\n",
              "high                   0\n",
              "qty_traded             0\n",
              "num_trades             0\n",
              "value               4873\n",
              "I                  19857\n",
              "currReturn            84\n",
              "dtype: int64"
            ]
          },
          "metadata": {
            "tags": []
          },
          "execution_count": 420
        }
      ]
    },
    {
      "cell_type": "code",
      "metadata": {
        "id": "9gSmxLizINHB",
        "colab_type": "code",
        "outputId": "e9a9c072-623b-4743-e161-6168aa14bdc7",
        "colab": {
          "base_uri": "https://localhost:8080/",
          "height": 34
        }
      },
      "source": [
        "# shape of the dataset\n",
        "in_dd.shape"
      ],
      "execution_count": 421,
      "outputs": [
        {
          "output_type": "execute_result",
          "data": {
            "text/plain": [
              "(20916, 16)"
            ]
          },
          "metadata": {
            "tags": []
          },
          "execution_count": 421
        }
      ]
    },
    {
      "cell_type": "code",
      "metadata": {
        "id": "jy-inXLYedhj",
        "colab_type": "code",
        "outputId": "19c430da-e198-4d35-ea92-78bbfabf9ae5",
        "colab": {
          "base_uri": "https://localhost:8080/",
          "height": 302
        }
      },
      "source": [
        "# checking if our work is done successfully\n",
        "in_dd.isna().sum()"
      ],
      "execution_count": 422,
      "outputs": [
        {
          "output_type": "execute_result",
          "data": {
            "text/plain": [
              "date                   0\n",
              "C_GR_RLC               0\n",
              "company_code           0\n",
              "company                0\n",
              "ref_price              0\n",
              "yesterday_price        0\n",
              "open                   0\n",
              "last                   0\n",
              "close                  0\n",
              "low                    0\n",
              "high                   0\n",
              "qty_traded             0\n",
              "num_trades             0\n",
              "value               4873\n",
              "I                  19857\n",
              "currReturn            84\n",
              "dtype: int64"
            ]
          },
          "metadata": {
            "tags": []
          },
          "execution_count": 422
        }
      ]
    },
    {
      "cell_type": "code",
      "metadata": {
        "id": "uqpRokId5RHw",
        "colab_type": "code",
        "colab": {}
      },
      "source": [
        "# make a pivot to create a data matrix where columns are companies and rows are days; the values in the data matrix are for the returns\n",
        "ret_data=in_dd.pivot(index='date',columns='company',values='currReturn').dropna()"
      ],
      "execution_count": 0,
      "outputs": []
    },
    {
      "cell_type": "code",
      "metadata": {
        "id": "KRPcXu3Y8iS6",
        "colab_type": "code",
        "colab": {}
      },
      "source": [
        "# handle infinte values\n",
        "ret_data=ret_data.replace([np.inf, -np.inf], 0)"
      ],
      "execution_count": 0,
      "outputs": []
    },
    {
      "cell_type": "code",
      "metadata": {
        "id": "EaQ1ED2H5XaN",
        "colab_type": "code",
        "outputId": "05a32d33-08bd-4cf8-9983-132bc1cd0ea5",
        "colab": {
          "base_uri": "https://localhost:8080/",
          "height": 315
        }
      },
      "source": [
        "# show the top entries from the returns matrix\n",
        "ret_data.head(3)"
      ],
      "execution_count": 425,
      "outputs": [
        {
          "output_type": "execute_result",
          "data": {
            "text/html": [
              "<div>\n",
              "<style scoped>\n",
              "    .dataframe tbody tr th:only-of-type {\n",
              "        vertical-align: middle;\n",
              "    }\n",
              "\n",
              "    .dataframe tbody tr th {\n",
              "        vertical-align: top;\n",
              "    }\n",
              "\n",
              "    .dataframe thead th {\n",
              "        text-align: right;\n",
              "    }\n",
              "</style>\n",
              "<table border=\"1\" class=\"dataframe\">\n",
              "  <thead>\n",
              "    <tr style=\"text-align: right;\">\n",
              "      <th>company</th>\n",
              "      <th>ADWYA</th>\n",
              "      <th>AETECH</th>\n",
              "      <th>AIR LIQUDE TSIE</th>\n",
              "      <th>ALKIMIA</th>\n",
              "      <th>AMEN BANK</th>\n",
              "      <th>AMI DA 1/4 110817</th>\n",
              "      <th>AMS</th>\n",
              "      <th>ARTES</th>\n",
              "      <th>ASS MULTI ITTIHAD</th>\n",
              "      <th>ASSAD</th>\n",
              "      <th>ASSURANCES SALIM</th>\n",
              "      <th>ASTREE</th>\n",
              "      <th>ATB</th>\n",
              "      <th>ATELIER MEUBLE INT</th>\n",
              "      <th>ATL</th>\n",
              "      <th>ATTIJARI BANK</th>\n",
              "      <th>ATTIJARI LEASING</th>\n",
              "      <th>BEST LEASE</th>\n",
              "      <th>BH</th>\n",
              "      <th>BIAT</th>\n",
              "      <th>BNA</th>\n",
              "      <th>BT</th>\n",
              "      <th>BTE (ADP)</th>\n",
              "      <th>CARTHAGE CEMENT</th>\n",
              "      <th>CELLCOM</th>\n",
              "      <th>CEREALIS</th>\n",
              "      <th>CIL</th>\n",
              "      <th>CIMENTS DE BIZERTE</th>\n",
              "      <th>CITY CARS</th>\n",
              "      <th>DELICE HOLDING</th>\n",
              "      <th>ELBENE INDUSTRIE</th>\n",
              "      <th>ELECTROSTAR</th>\n",
              "      <th>ENNAKL AUTOMOBILES</th>\n",
              "      <th>ESSOUKNA</th>\n",
              "      <th>EURO-CYCLES</th>\n",
              "      <th>GIF-FILTER</th>\n",
              "      <th>HANNIBAL LEASE</th>\n",
              "      <th>HEXABYTE</th>\n",
              "      <th>ICF</th>\n",
              "      <th>LAND OR</th>\n",
              "      <th>...</th>\n",
              "      <th>MPBS</th>\n",
              "      <th>NEW BODY LINE</th>\n",
              "      <th>OFFICEPLAST</th>\n",
              "      <th>ONE TECH HOLDING</th>\n",
              "      <th>PLAC. TSIE-SICAF</th>\n",
              "      <th>POULINA GP HOLDING</th>\n",
              "      <th>SAH</th>\n",
              "      <th>SANIMED</th>\n",
              "      <th>SERVICOM</th>\n",
              "      <th>SFBT</th>\n",
              "      <th>SIAME</th>\n",
              "      <th>SIMPAR</th>\n",
              "      <th>SIPHAT</th>\n",
              "      <th>SITEX</th>\n",
              "      <th>SITS</th>\n",
              "      <th>SOMOCER</th>\n",
              "      <th>SOPAT</th>\n",
              "      <th>SOTEMAIL</th>\n",
              "      <th>SOTETEL</th>\n",
              "      <th>SOTIPAPIER</th>\n",
              "      <th>SOTRAPIL</th>\n",
              "      <th>SOTUMAG</th>\n",
              "      <th>SOTUVER</th>\n",
              "      <th>SPDIT - SICAF</th>\n",
              "      <th>STAR</th>\n",
              "      <th>STB</th>\n",
              "      <th>STE TUN. DU SUCRE</th>\n",
              "      <th>STEQ</th>\n",
              "      <th>STIP</th>\n",
              "      <th>TAWASOL GP HOLDING</th>\n",
              "      <th>TELNET HOLDING</th>\n",
              "      <th>TPR</th>\n",
              "      <th>TUNINVEST-SICAR</th>\n",
              "      <th>TUNIS RE</th>\n",
              "      <th>TUNISAIR</th>\n",
              "      <th>UADH</th>\n",
              "      <th>UBCI</th>\n",
              "      <th>UIB</th>\n",
              "      <th>UNIMED</th>\n",
              "      <th>WIFACK INT BANK</th>\n",
              "    </tr>\n",
              "    <tr>\n",
              "      <th>date</th>\n",
              "      <th></th>\n",
              "      <th></th>\n",
              "      <th></th>\n",
              "      <th></th>\n",
              "      <th></th>\n",
              "      <th></th>\n",
              "      <th></th>\n",
              "      <th></th>\n",
              "      <th></th>\n",
              "      <th></th>\n",
              "      <th></th>\n",
              "      <th></th>\n",
              "      <th></th>\n",
              "      <th></th>\n",
              "      <th></th>\n",
              "      <th></th>\n",
              "      <th></th>\n",
              "      <th></th>\n",
              "      <th></th>\n",
              "      <th></th>\n",
              "      <th></th>\n",
              "      <th></th>\n",
              "      <th></th>\n",
              "      <th></th>\n",
              "      <th></th>\n",
              "      <th></th>\n",
              "      <th></th>\n",
              "      <th></th>\n",
              "      <th></th>\n",
              "      <th></th>\n",
              "      <th></th>\n",
              "      <th></th>\n",
              "      <th></th>\n",
              "      <th></th>\n",
              "      <th></th>\n",
              "      <th></th>\n",
              "      <th></th>\n",
              "      <th></th>\n",
              "      <th></th>\n",
              "      <th></th>\n",
              "      <th></th>\n",
              "      <th></th>\n",
              "      <th></th>\n",
              "      <th></th>\n",
              "      <th></th>\n",
              "      <th></th>\n",
              "      <th></th>\n",
              "      <th></th>\n",
              "      <th></th>\n",
              "      <th></th>\n",
              "      <th></th>\n",
              "      <th></th>\n",
              "      <th></th>\n",
              "      <th></th>\n",
              "      <th></th>\n",
              "      <th></th>\n",
              "      <th></th>\n",
              "      <th></th>\n",
              "      <th></th>\n",
              "      <th></th>\n",
              "      <th></th>\n",
              "      <th></th>\n",
              "      <th></th>\n",
              "      <th></th>\n",
              "      <th></th>\n",
              "      <th></th>\n",
              "      <th></th>\n",
              "      <th></th>\n",
              "      <th></th>\n",
              "      <th></th>\n",
              "      <th></th>\n",
              "      <th></th>\n",
              "      <th></th>\n",
              "      <th></th>\n",
              "      <th></th>\n",
              "      <th></th>\n",
              "      <th></th>\n",
              "      <th></th>\n",
              "      <th></th>\n",
              "      <th></th>\n",
              "      <th></th>\n",
              "    </tr>\n",
              "  </thead>\n",
              "  <tbody>\n",
              "    <tr>\n",
              "      <th>2018-01-03</th>\n",
              "      <td>-0.007421</td>\n",
              "      <td>0.039216</td>\n",
              "      <td>0.000000</td>\n",
              "      <td>0.000000</td>\n",
              "      <td>-0.000417</td>\n",
              "      <td>-0.138249</td>\n",
              "      <td>-0.025424</td>\n",
              "      <td>0.02459</td>\n",
              "      <td>-0.030303</td>\n",
              "      <td>-0.001111</td>\n",
              "      <td>0.000000</td>\n",
              "      <td>0.0</td>\n",
              "      <td>-0.007177</td>\n",
              "      <td>0.000000</td>\n",
              "      <td>0.000000</td>\n",
              "      <td>-0.012295</td>\n",
              "      <td>-0.009508</td>\n",
              "      <td>-0.026316</td>\n",
              "      <td>-0.002706</td>\n",
              "      <td>0.016088</td>\n",
              "      <td>0.007752</td>\n",
              "      <td>0.00128</td>\n",
              "      <td>-0.023823</td>\n",
              "      <td>-0.008584</td>\n",
              "      <td>0.005291</td>\n",
              "      <td>-0.019753</td>\n",
              "      <td>0.027316</td>\n",
              "      <td>-0.004</td>\n",
              "      <td>0.029767</td>\n",
              "      <td>0.000000</td>\n",
              "      <td>0.0</td>\n",
              "      <td>0.007547</td>\n",
              "      <td>0.016129</td>\n",
              "      <td>-0.010840</td>\n",
              "      <td>0.037736</td>\n",
              "      <td>-0.027027</td>\n",
              "      <td>0.000000</td>\n",
              "      <td>0.001894</td>\n",
              "      <td>0.002844</td>\n",
              "      <td>-0.033333</td>\n",
              "      <td>...</td>\n",
              "      <td>-0.028846</td>\n",
              "      <td>-0.010101</td>\n",
              "      <td>-0.046875</td>\n",
              "      <td>0.043939</td>\n",
              "      <td>0.0</td>\n",
              "      <td>0.053162</td>\n",
              "      <td>0.009026</td>\n",
              "      <td>-0.002336</td>\n",
              "      <td>-0.013158</td>\n",
              "      <td>0.024742</td>\n",
              "      <td>-0.029536</td>\n",
              "      <td>0.027804</td>\n",
              "      <td>-0.028302</td>\n",
              "      <td>0.0</td>\n",
              "      <td>0.000000</td>\n",
              "      <td>0.034483</td>\n",
              "      <td>0.000000</td>\n",
              "      <td>0.0</td>\n",
              "      <td>0.003559</td>\n",
              "      <td>-0.005682</td>\n",
              "      <td>0.000935</td>\n",
              "      <td>0.010363</td>\n",
              "      <td>-0.028340</td>\n",
              "      <td>-0.012195</td>\n",
              "      <td>0.020408</td>\n",
              "      <td>0.008130</td>\n",
              "      <td>0.0</td>\n",
              "      <td>0.0</td>\n",
              "      <td>0.0</td>\n",
              "      <td>-0.026316</td>\n",
              "      <td>0.013652</td>\n",
              "      <td>-0.022989</td>\n",
              "      <td>0.000000</td>\n",
              "      <td>-0.017857</td>\n",
              "      <td>-0.023256</td>\n",
              "      <td>0.004082</td>\n",
              "      <td>0.0</td>\n",
              "      <td>0.004089</td>\n",
              "      <td>0.019108</td>\n",
              "      <td>-0.002692</td>\n",
              "    </tr>\n",
              "    <tr>\n",
              "      <th>2018-01-04</th>\n",
              "      <td>0.037383</td>\n",
              "      <td>0.037736</td>\n",
              "      <td>-0.011236</td>\n",
              "      <td>-0.029989</td>\n",
              "      <td>-0.003752</td>\n",
              "      <td>0.000000</td>\n",
              "      <td>0.000000</td>\n",
              "      <td>0.00160</td>\n",
              "      <td>-0.045000</td>\n",
              "      <td>0.011123</td>\n",
              "      <td>0.000000</td>\n",
              "      <td>0.0</td>\n",
              "      <td>0.004819</td>\n",
              "      <td>-0.004016</td>\n",
              "      <td>0.003236</td>\n",
              "      <td>0.008852</td>\n",
              "      <td>0.002823</td>\n",
              "      <td>0.021622</td>\n",
              "      <td>-0.023332</td>\n",
              "      <td>-0.012500</td>\n",
              "      <td>-0.000855</td>\n",
              "      <td>0.00000</td>\n",
              "      <td>0.000595</td>\n",
              "      <td>-0.004329</td>\n",
              "      <td>-0.005263</td>\n",
              "      <td>0.027708</td>\n",
              "      <td>0.027746</td>\n",
              "      <td>0.000</td>\n",
              "      <td>-0.006323</td>\n",
              "      <td>0.029091</td>\n",
              "      <td>0.0</td>\n",
              "      <td>-0.014981</td>\n",
              "      <td>-0.007937</td>\n",
              "      <td>0.024658</td>\n",
              "      <td>0.036000</td>\n",
              "      <td>0.027778</td>\n",
              "      <td>0.003722</td>\n",
              "      <td>-0.028355</td>\n",
              "      <td>0.028004</td>\n",
              "      <td>0.020690</td>\n",
              "      <td>...</td>\n",
              "      <td>0.023102</td>\n",
              "      <td>-0.028571</td>\n",
              "      <td>-0.059016</td>\n",
              "      <td>-0.013062</td>\n",
              "      <td>0.0</td>\n",
              "      <td>-0.014795</td>\n",
              "      <td>0.008946</td>\n",
              "      <td>-0.004684</td>\n",
              "      <td>0.060000</td>\n",
              "      <td>-0.005030</td>\n",
              "      <td>-0.004348</td>\n",
              "      <td>-0.011139</td>\n",
              "      <td>-0.007767</td>\n",
              "      <td>0.0</td>\n",
              "      <td>0.046809</td>\n",
              "      <td>0.025000</td>\n",
              "      <td>0.027027</td>\n",
              "      <td>0.0</td>\n",
              "      <td>0.021277</td>\n",
              "      <td>-0.002857</td>\n",
              "      <td>0.017740</td>\n",
              "      <td>0.000000</td>\n",
              "      <td>-0.029167</td>\n",
              "      <td>0.000000</td>\n",
              "      <td>-0.000200</td>\n",
              "      <td>-0.005376</td>\n",
              "      <td>0.0</td>\n",
              "      <td>0.0</td>\n",
              "      <td>0.0</td>\n",
              "      <td>-0.027027</td>\n",
              "      <td>0.026936</td>\n",
              "      <td>-0.032353</td>\n",
              "      <td>0.000000</td>\n",
              "      <td>0.030303</td>\n",
              "      <td>0.023810</td>\n",
              "      <td>0.056911</td>\n",
              "      <td>0.0</td>\n",
              "      <td>-0.004525</td>\n",
              "      <td>-0.002500</td>\n",
              "      <td>-0.029690</td>\n",
              "    </tr>\n",
              "    <tr>\n",
              "      <th>2018-01-05</th>\n",
              "      <td>0.005405</td>\n",
              "      <td>0.018182</td>\n",
              "      <td>0.002273</td>\n",
              "      <td>-0.044929</td>\n",
              "      <td>0.003347</td>\n",
              "      <td>0.000000</td>\n",
              "      <td>0.000000</td>\n",
              "      <td>0.00000</td>\n",
              "      <td>-0.018325</td>\n",
              "      <td>0.012101</td>\n",
              "      <td>-0.029851</td>\n",
              "      <td>0.0</td>\n",
              "      <td>-0.011990</td>\n",
              "      <td>-0.020161</td>\n",
              "      <td>0.006452</td>\n",
              "      <td>0.010694</td>\n",
              "      <td>0.002252</td>\n",
              "      <td>0.000000</td>\n",
              "      <td>-0.001667</td>\n",
              "      <td>0.011814</td>\n",
              "      <td>-0.007699</td>\n",
              "      <td>0.00000</td>\n",
              "      <td>0.024985</td>\n",
              "      <td>0.021739</td>\n",
              "      <td>-0.026455</td>\n",
              "      <td>-0.004902</td>\n",
              "      <td>0.000000</td>\n",
              "      <td>0.000</td>\n",
              "      <td>0.044545</td>\n",
              "      <td>-0.004711</td>\n",
              "      <td>0.0</td>\n",
              "      <td>-0.003802</td>\n",
              "      <td>0.008000</td>\n",
              "      <td>0.008021</td>\n",
              "      <td>-0.017550</td>\n",
              "      <td>-0.013514</td>\n",
              "      <td>-0.011125</td>\n",
              "      <td>0.019455</td>\n",
              "      <td>0.000000</td>\n",
              "      <td>0.029730</td>\n",
              "      <td>...</td>\n",
              "      <td>-0.029032</td>\n",
              "      <td>0.008403</td>\n",
              "      <td>-0.041812</td>\n",
              "      <td>-0.013971</td>\n",
              "      <td>0.0</td>\n",
              "      <td>0.000000</td>\n",
              "      <td>0.025966</td>\n",
              "      <td>0.000000</td>\n",
              "      <td>0.056604</td>\n",
              "      <td>0.000000</td>\n",
              "      <td>-0.034934</td>\n",
              "      <td>-0.011494</td>\n",
              "      <td>0.029354</td>\n",
              "      <td>0.0</td>\n",
              "      <td>0.056911</td>\n",
              "      <td>0.048780</td>\n",
              "      <td>0.000000</td>\n",
              "      <td>0.0</td>\n",
              "      <td>0.000000</td>\n",
              "      <td>-0.025788</td>\n",
              "      <td>0.008257</td>\n",
              "      <td>-0.025641</td>\n",
              "      <td>-0.012876</td>\n",
              "      <td>0.000000</td>\n",
              "      <td>-0.029806</td>\n",
              "      <td>-0.021622</td>\n",
              "      <td>0.0</td>\n",
              "      <td>0.0</td>\n",
              "      <td>0.0</td>\n",
              "      <td>0.000000</td>\n",
              "      <td>0.013115</td>\n",
              "      <td>0.000000</td>\n",
              "      <td>0.029231</td>\n",
              "      <td>-0.012941</td>\n",
              "      <td>-0.023256</td>\n",
              "      <td>0.034615</td>\n",
              "      <td>0.0</td>\n",
              "      <td>0.000000</td>\n",
              "      <td>0.002506</td>\n",
              "      <td>-0.001391</td>\n",
              "    </tr>\n",
              "  </tbody>\n",
              "</table>\n",
              "<p>3 rows × 84 columns</p>\n",
              "</div>"
            ],
            "text/plain": [
              "company        ADWYA    AETECH  ...    UNIMED  WIFACK INT BANK\n",
              "date                            ...                           \n",
              "2018-01-03 -0.007421  0.039216  ...  0.019108        -0.002692\n",
              "2018-01-04  0.037383  0.037736  ... -0.002500        -0.029690\n",
              "2018-01-05  0.005405  0.018182  ...  0.002506        -0.001391\n",
              "\n",
              "[3 rows x 84 columns]"
            ]
          },
          "metadata": {
            "tags": []
          },
          "execution_count": 425
        }
      ]
    },
    {
      "cell_type": "code",
      "metadata": {
        "id": "FCcl-Hya1Qar",
        "colab_type": "code",
        "colab": {
          "base_uri": "https://localhost:8080/",
          "height": 319
        },
        "outputId": "01ecce29-074a-44d1-8782-c014d667a531"
      },
      "source": [
        "cols = ret_data.columns.values\n",
        "cols"
      ],
      "execution_count": 426,
      "outputs": [
        {
          "output_type": "execute_result",
          "data": {
            "text/plain": [
              "array(['ADWYA', 'AETECH', 'AIR LIQUDE TSIE', 'ALKIMIA', 'AMEN BANK',\n",
              "       'AMI DA 1/4 110817', 'AMS', 'ARTES', 'ASS MULTI ITTIHAD', 'ASSAD',\n",
              "       'ASSURANCES SALIM', 'ASTREE', 'ATB', 'ATELIER MEUBLE INT', 'ATL',\n",
              "       'ATTIJARI BANK', 'ATTIJARI LEASING', 'BEST LEASE', 'BH', 'BIAT',\n",
              "       'BNA', 'BT', 'BTE (ADP)', 'CARTHAGE CEMENT', 'CELLCOM', 'CEREALIS',\n",
              "       'CIL', 'CIMENTS DE BIZERTE', 'CITY CARS', 'DELICE HOLDING',\n",
              "       'ELBENE INDUSTRIE', 'ELECTROSTAR', 'ENNAKL AUTOMOBILES',\n",
              "       'ESSOUKNA', 'EURO-CYCLES', 'GIF-FILTER', 'HANNIBAL LEASE',\n",
              "       'HEXABYTE', 'ICF', 'LAND OR', 'MAGASIN GENERAL',\n",
              "       'MAGHREB INTERN PUB', 'MODERN LEASING', 'MONOPRIX', 'MPBS',\n",
              "       'NEW BODY LINE', 'OFFICEPLAST', 'ONE TECH HOLDING',\n",
              "       'PLAC. TSIE-SICAF', 'POULINA GP HOLDING', 'SAH', 'SANIMED',\n",
              "       'SERVICOM', 'SFBT', 'SIAME', 'SIMPAR', 'SIPHAT', 'SITEX', 'SITS',\n",
              "       'SOMOCER', 'SOPAT', 'SOTEMAIL', 'SOTETEL', 'SOTIPAPIER',\n",
              "       'SOTRAPIL', 'SOTUMAG', 'SOTUVER', 'SPDIT - SICAF', 'STAR', 'STB',\n",
              "       'STE TUN. DU SUCRE', 'STEQ', 'STIP', 'TAWASOL GP HOLDING',\n",
              "       'TELNET HOLDING', 'TPR', 'TUNINVEST-SICAR', 'TUNIS RE', 'TUNISAIR',\n",
              "       'UADH', 'UBCI', 'UIB', 'UNIMED', 'WIFACK INT BANK'], dtype=object)"
            ]
          },
          "metadata": {
            "tags": []
          },
          "execution_count": 426
        }
      ]
    },
    {
      "cell_type": "markdown",
      "metadata": {
        "id": "Xg6vOy5H0D5E",
        "colab_type": "text"
      },
      "source": [
        "# First Field : Automobiles and Equipment VS BANKS"
      ]
    },
    {
      "cell_type": "code",
      "metadata": {
        "id": "8l7ciGAzuaeJ",
        "colab_type": "code",
        "colab": {}
      },
      "source": [
        "# choose the variables that we will work on it\n",
        "cols_1 = ['WIFACK INT BANK','UIB','UBCI','STB','BTE (ADP)','BIAT','BH','BNA','BT','ATTIJARI BANK','ATB','AMEN BANK','GIF-FILTER', 'STIP', 'STEQ','ASSAD']"
      ],
      "execution_count": 0,
      "outputs": []
    },
    {
      "cell_type": "code",
      "metadata": {
        "id": "39r3MWpMsUfA",
        "colab_type": "code",
        "colab": {}
      },
      "source": [
        "# dataset for the two fields\n",
        "ret_data_1 = ret_data.loc[:,cols_1]"
      ],
      "execution_count": 0,
      "outputs": []
    },
    {
      "cell_type": "code",
      "metadata": {
        "id": "ejGw8WCtspKr",
        "colab_type": "code",
        "outputId": "aba03439-e830-4d72-b571-d54459d8901b",
        "colab": {
          "base_uri": "https://localhost:8080/",
          "height": 253
        }
      },
      "source": [
        "ret_data_1.head(3)"
      ],
      "execution_count": 429,
      "outputs": [
        {
          "output_type": "execute_result",
          "data": {
            "text/html": [
              "<div>\n",
              "<style scoped>\n",
              "    .dataframe tbody tr th:only-of-type {\n",
              "        vertical-align: middle;\n",
              "    }\n",
              "\n",
              "    .dataframe tbody tr th {\n",
              "        vertical-align: top;\n",
              "    }\n",
              "\n",
              "    .dataframe thead th {\n",
              "        text-align: right;\n",
              "    }\n",
              "</style>\n",
              "<table border=\"1\" class=\"dataframe\">\n",
              "  <thead>\n",
              "    <tr style=\"text-align: right;\">\n",
              "      <th>company</th>\n",
              "      <th>WIFACK INT BANK</th>\n",
              "      <th>UIB</th>\n",
              "      <th>UBCI</th>\n",
              "      <th>STB</th>\n",
              "      <th>BTE (ADP)</th>\n",
              "      <th>BIAT</th>\n",
              "      <th>BH</th>\n",
              "      <th>BNA</th>\n",
              "      <th>BT</th>\n",
              "      <th>ATTIJARI BANK</th>\n",
              "      <th>ATB</th>\n",
              "      <th>AMEN BANK</th>\n",
              "      <th>GIF-FILTER</th>\n",
              "      <th>STIP</th>\n",
              "      <th>STEQ</th>\n",
              "      <th>ASSAD</th>\n",
              "    </tr>\n",
              "    <tr>\n",
              "      <th>date</th>\n",
              "      <th></th>\n",
              "      <th></th>\n",
              "      <th></th>\n",
              "      <th></th>\n",
              "      <th></th>\n",
              "      <th></th>\n",
              "      <th></th>\n",
              "      <th></th>\n",
              "      <th></th>\n",
              "      <th></th>\n",
              "      <th></th>\n",
              "      <th></th>\n",
              "      <th></th>\n",
              "      <th></th>\n",
              "      <th></th>\n",
              "      <th></th>\n",
              "    </tr>\n",
              "  </thead>\n",
              "  <tbody>\n",
              "    <tr>\n",
              "      <th>2018-01-03</th>\n",
              "      <td>-0.002692</td>\n",
              "      <td>0.004089</td>\n",
              "      <td>0.0</td>\n",
              "      <td>0.008130</td>\n",
              "      <td>-0.023823</td>\n",
              "      <td>0.016088</td>\n",
              "      <td>-0.002706</td>\n",
              "      <td>0.007752</td>\n",
              "      <td>0.00128</td>\n",
              "      <td>-0.012295</td>\n",
              "      <td>-0.007177</td>\n",
              "      <td>-0.000417</td>\n",
              "      <td>-0.027027</td>\n",
              "      <td>0.0</td>\n",
              "      <td>0.0</td>\n",
              "      <td>-0.001111</td>\n",
              "    </tr>\n",
              "    <tr>\n",
              "      <th>2018-01-04</th>\n",
              "      <td>-0.029690</td>\n",
              "      <td>-0.004525</td>\n",
              "      <td>0.0</td>\n",
              "      <td>-0.005376</td>\n",
              "      <td>0.000595</td>\n",
              "      <td>-0.012500</td>\n",
              "      <td>-0.023332</td>\n",
              "      <td>-0.000855</td>\n",
              "      <td>0.00000</td>\n",
              "      <td>0.008852</td>\n",
              "      <td>0.004819</td>\n",
              "      <td>-0.003752</td>\n",
              "      <td>0.027778</td>\n",
              "      <td>0.0</td>\n",
              "      <td>0.0</td>\n",
              "      <td>0.011123</td>\n",
              "    </tr>\n",
              "    <tr>\n",
              "      <th>2018-01-05</th>\n",
              "      <td>-0.001391</td>\n",
              "      <td>0.000000</td>\n",
              "      <td>0.0</td>\n",
              "      <td>-0.021622</td>\n",
              "      <td>0.024985</td>\n",
              "      <td>0.011814</td>\n",
              "      <td>-0.001667</td>\n",
              "      <td>-0.007699</td>\n",
              "      <td>0.00000</td>\n",
              "      <td>0.010694</td>\n",
              "      <td>-0.011990</td>\n",
              "      <td>0.003347</td>\n",
              "      <td>-0.013514</td>\n",
              "      <td>0.0</td>\n",
              "      <td>0.0</td>\n",
              "      <td>0.012101</td>\n",
              "    </tr>\n",
              "  </tbody>\n",
              "</table>\n",
              "</div>"
            ],
            "text/plain": [
              "company     WIFACK INT BANK       UIB  UBCI  ...  STIP  STEQ     ASSAD\n",
              "date                                         ...                      \n",
              "2018-01-03        -0.002692  0.004089   0.0  ...   0.0   0.0 -0.001111\n",
              "2018-01-04        -0.029690 -0.004525   0.0  ...   0.0   0.0  0.011123\n",
              "2018-01-05        -0.001391  0.000000   0.0  ...   0.0   0.0  0.012101\n",
              "\n",
              "[3 rows x 16 columns]"
            ]
          },
          "metadata": {
            "tags": []
          },
          "execution_count": 429
        }
      ]
    },
    {
      "cell_type": "code",
      "metadata": {
        "id": "OD7mWr0Y0jvB",
        "colab_type": "code",
        "outputId": "4296e7d1-e289-4c63-e8da-90ec7ae3b840",
        "colab": {
          "base_uri": "https://localhost:8080/",
          "height": 286
        }
      },
      "source": [
        "# Let's see the variance while increasing the num_pc\n",
        "from sklearn.decomposition import PCA\n",
        "X = np.asarray(ret_data_1)\n",
        "[n,m] = X.shape\n",
        "for i in range(1,17):\n",
        "  pca = PCA(n_components=i) # number of principal components\n",
        "  pca.fit(X)\n",
        "\n",
        "  percentage =  pca.explained_variance_ratio_\n",
        "  percentage_cum = np.cumsum(percentage)\n",
        "  print (percentage_cum[-1]*100,'% of the variance is explained by the first',i,' PCs')\n"
      ],
      "execution_count": 430,
      "outputs": [
        {
          "output_type": "stream",
          "text": [
            "18.188183723860462 % of the variance is explained by the first 1  PCs\n",
            "30.839644923738447 % of the variance is explained by the first 2  PCs\n",
            "41.197250090282076 % of the variance is explained by the first 3  PCs\n",
            "49.683884144577874 % of the variance is explained by the first 4  PCs\n",
            "57.46601526230678 % of the variance is explained by the first 5  PCs\n",
            "64.49396157699495 % of the variance is explained by the first 6  PCs\n",
            "71.21992448772644 % of the variance is explained by the first 7  PCs\n",
            "77.02637247081083 % of the variance is explained by the first 8  PCs\n",
            "82.32012218634159 % of the variance is explained by the first 9  PCs\n",
            "86.01184594172469 % of the variance is explained by the first 10  PCs\n",
            "89.0364050085885 % of the variance is explained by the first 11  PCs\n",
            "91.69782975291932 % of the variance is explained by the first 12  PCs\n",
            "94.18397963433843 % of the variance is explained by the first 13  PCs\n",
            "96.26448231860469 % of the variance is explained by the first 14  PCs\n",
            "98.15253904490092 % of the variance is explained by the first 15  PCs\n",
            "100.00000000000003 % of the variance is explained by the first 16  PCs\n"
          ],
          "name": "stdout"
        }
      ]
    },
    {
      "cell_type": "markdown",
      "metadata": {
        "id": "0_yxysnP1SM6",
        "colab_type": "text"
      },
      "source": [
        "* we can see that with 16 PCs we can get almost all the variance of that dataset.\n",
        "* Let's examine in particular the case of num_pc = 3 and num_pc = 2"
      ]
    },
    {
      "cell_type": "code",
      "metadata": {
        "id": "vFqZ2bCT6rH0",
        "colab_type": "code",
        "colab": {
          "base_uri": "https://localhost:8080/",
          "height": 67
        },
        "outputId": "52782e35-0a9d-4863-96c5-993c1755ae01"
      },
      "source": [
        "#num_pc = 3\n",
        "num_pc = 3\n",
        "\n",
        "\n",
        "print ('The number of timestamps is {}.',n)\n",
        "print ('The number of stocks is {}.',m)\n",
        "\n",
        "pca = PCA(n_components=num_pc) # number of principal components\n",
        "pca.fit(X)\n",
        "\n",
        "percentage =  pca.explained_variance_ratio_\n",
        "percentage_cum = np.cumsum(percentage)\n",
        "print (percentage_cum[-1]*100,'% of the variance is explained by the first 2 PCs')\n",
        "\n",
        "pca_components = pca.components_"
      ],
      "execution_count": 431,
      "outputs": [
        {
          "output_type": "stream",
          "text": [
            "The number of timestamps is {}. 248\n",
            "The number of stocks is {}. 16\n",
            "41.197250090282076 % of the variance is explained by the first 2 PCs\n"
          ],
          "name": "stdout"
        }
      ]
    },
    {
      "cell_type": "markdown",
      "metadata": {
        "id": "FS8eq_xWFkhy",
        "colab_type": "text"
      },
      "source": [
        "* We are approximation the matrix X of 16 variables to a new matrix with num_pc variables\n",
        "\n",
        "* Here we are loosing 59% of the data"
      ]
    },
    {
      "cell_type": "code",
      "metadata": {
        "id": "HfDB3YBy6rRf",
        "colab_type": "code",
        "colab": {
          "base_uri": "https://localhost:8080/",
          "height": 291
        },
        "outputId": "aefb3f84-f9b9-4ab1-b8ad-59cb53ac327f"
      },
      "source": [
        "#Now we collect the first 2 principal components and plot their contributions.\n",
        "x = np.arange(1,len(percentage)+1,1)\n",
        "\n",
        "plt.subplot(1, 2, 1)\n",
        "plt.bar(x, percentage*100, align = \"center\")\n",
        "plt.title('Contribution of principal components',fontsize = 9)\n",
        "plt.xlabel('principal components',fontsize = 9)\n",
        "plt.ylabel('percentage',fontsize = 9)\n",
        "plt.xticks(x,fontsize = 10) \n",
        "plt.yticks(fontsize = 10)\n",
        "plt.xlim([0, num_pc+1])\n",
        "\n",
        "plt.subplot(1, 2, 2)\n",
        "plt.plot(x, percentage_cum*100,'ro-')\n",
        "plt.xlabel('principal components',fontsize = 9)\n",
        "plt.ylabel('percentage',fontsize = 9)\n",
        "plt.title('Cumulative contribution of principal components',fontsize = 9)\n",
        "plt.xticks(x,fontsize = 10) \n",
        "plt.yticks(fontsize = 10)\n",
        "plt.xlim([1, num_pc+1])\n",
        "plt.ylim([0,100]);"
      ],
      "execution_count": 432,
      "outputs": [
        {
          "output_type": "display_data",
          "data": {
            "image/png": "[encoded data removed]",
            "text/plain": [
              "<Figure size 432x288 with 2 Axes>"
            ]
          },
          "metadata": {
            "tags": [],
            "needs_background": "light"
          }
        }
      ]
    },
    {
      "cell_type": "markdown",
      "metadata": {
        "id": "BL6P_BbO6wtL",
        "colab_type": "text"
      },
      "source": [
        "* From the second graph, we can notice that the trend of the variance with regard to the num_pc is not linear. But the slope decreases while we increase the num_pc and this is expected."
      ]
    },
    {
      "cell_type": "code",
      "metadata": {
        "id": "Od_f3fIX5cWL",
        "colab_type": "code",
        "outputId": "230511c5-3e27-4196-9e70-0cd5dc8a5009",
        "colab": {
          "base_uri": "https://localhost:8080/",
          "height": 67
        }
      },
      "source": [
        "#num_pc = 2\n",
        "num_pc = 2\n",
        "\n",
        "\n",
        "print ('The number of timestamps is {}.',n)\n",
        "print ('The number of stocks is {}.',m)\n",
        "\n",
        "pca = PCA(n_components=num_pc) # number of principal components\n",
        "pca.fit(X)\n",
        "\n",
        "percentage =  pca.explained_variance_ratio_\n",
        "percentage_cum = np.cumsum(percentage)\n",
        "print (percentage_cum[-1]*100,'% of the variance is explained by the first 2 PCs')\n",
        "\n",
        "pca_components = pca.components_"
      ],
      "execution_count": 433,
      "outputs": [
        {
          "output_type": "stream",
          "text": [
            "The number of timestamps is {}. 248\n",
            "The number of stocks is {}. 16\n",
            "30.839644923738447 % of the variance is explained by the first 2 PCs\n"
          ],
          "name": "stdout"
        }
      ]
    },
    {
      "cell_type": "markdown",
      "metadata": {
        "id": "vd5vkDoXR1u_",
        "colab_type": "text"
      },
      "source": [
        "* Here we are loosing 69% of the data"
      ]
    },
    {
      "cell_type": "code",
      "metadata": {
        "id": "HciuZRdfADFW",
        "colab_type": "code",
        "outputId": "77a69d6a-ad31-43df-9063-041943e2664f",
        "colab": {
          "base_uri": "https://localhost:8080/",
          "height": 291
        }
      },
      "source": [
        "#Now we collect the first 2 principal components and plot their contributions.\n",
        "x = np.arange(1,len(percentage)+1,1)\n",
        "\n",
        "plt.subplot(1, 2, 1)\n",
        "plt.bar(x, percentage*100, align = \"center\")\n",
        "plt.title('Contribution of principal components',fontsize = 9)\n",
        "plt.xlabel('principal components',fontsize = 9)\n",
        "plt.ylabel('percentage',fontsize = 9)\n",
        "plt.xticks(x,fontsize = 10) \n",
        "plt.yticks(fontsize = 10)\n",
        "plt.xlim([0, num_pc+1])\n",
        "\n",
        "plt.subplot(1, 2, 2)\n",
        "plt.plot(x, percentage_cum*100,'ro-')\n",
        "plt.xlabel('principal components',fontsize = 9)\n",
        "plt.ylabel('percentage',fontsize = 9)\n",
        "plt.title('Cumulative contribution of principal components',fontsize = 9)\n",
        "plt.xticks(x,fontsize = 10) \n",
        "plt.yticks(fontsize = 10)\n",
        "plt.xlim([1, num_pc])\n",
        "plt.ylim([0,100]);"
      ],
      "execution_count": 434,
      "outputs": [
        {
          "output_type": "display_data",
          "data": {
            "image/png": "[encoded data removed]",
            "text/plain": [
              "<Figure size 432x288 with 2 Axes>"
            ]
          },
          "metadata": {
            "tags": [],
            "needs_background": "light"
          }
        }
      ]
    },
    {
      "cell_type": "markdown",
      "metadata": {
        "id": "aEx6RSOq1yKl",
        "colab_type": "text"
      },
      "source": [
        "* As we can see here, those two graphs explains the amount of variance that each PC got. For exampe, the first PC as it is expected got the biggest variance (around 18%). If we sum all these rates, we will got 30.9% of variance.\n"
      ]
    },
    {
      "cell_type": "code",
      "metadata": {
        "id": "GTzfasTEAPDs",
        "colab_type": "code",
        "outputId": "316391e7-d769-446a-d24c-3f5f584d3d14",
        "colab": {
          "base_uri": "https://localhost:8080/",
          "height": 669
        }
      },
      "source": [
        "#From these principal components we can construct \"statistical risk factors\",\n",
        "# similar to more conventional common risk factors. These should give us an idea of how much \n",
        "#of the currReturn comes from some unobservable statistical feature.\n",
        "factor_returns = X.dot(pca_components.T)\n",
        "factor_returns = pd.DataFrame(columns=[\"factor 1\", \"factor 2\"], \n",
        "                              index=ret_data_1.index,\n",
        "                              data=factor_returns)\n",
        "factor_returns.head(20)"
      ],
      "execution_count": 435,
      "outputs": [
        {
          "output_type": "execute_result",
          "data": {
            "text/html": [
              "<div>\n",
              "<style scoped>\n",
              "    .dataframe tbody tr th:only-of-type {\n",
              "        vertical-align: middle;\n",
              "    }\n",
              "\n",
              "    .dataframe tbody tr th {\n",
              "        vertical-align: top;\n",
              "    }\n",
              "\n",
              "    .dataframe thead th {\n",
              "        text-align: right;\n",
              "    }\n",
              "</style>\n",
              "<table border=\"1\" class=\"dataframe\">\n",
              "  <thead>\n",
              "    <tr style=\"text-align: right;\">\n",
              "      <th></th>\n",
              "      <th>factor 1</th>\n",
              "      <th>factor 2</th>\n",
              "    </tr>\n",
              "    <tr>\n",
              "      <th>date</th>\n",
              "      <th></th>\n",
              "      <th></th>\n",
              "    </tr>\n",
              "  </thead>\n",
              "  <tbody>\n",
              "    <tr>\n",
              "      <th>2018-01-03</th>\n",
              "      <td>-0.003639</td>\n",
              "      <td>-0.003056</td>\n",
              "    </tr>\n",
              "    <tr>\n",
              "      <th>2018-01-04</th>\n",
              "      <td>0.007816</td>\n",
              "      <td>-0.001133</td>\n",
              "    </tr>\n",
              "    <tr>\n",
              "      <th>2018-01-05</th>\n",
              "      <td>0.006012</td>\n",
              "      <td>0.000791</td>\n",
              "    </tr>\n",
              "    <tr>\n",
              "      <th>2018-01-08</th>\n",
              "      <td>-0.018235</td>\n",
              "      <td>0.050861</td>\n",
              "    </tr>\n",
              "    <tr>\n",
              "      <th>2018-01-09</th>\n",
              "      <td>0.013615</td>\n",
              "      <td>0.008769</td>\n",
              "    </tr>\n",
              "    <tr>\n",
              "      <th>2018-01-10</th>\n",
              "      <td>-0.004084</td>\n",
              "      <td>0.041623</td>\n",
              "    </tr>\n",
              "    <tr>\n",
              "      <th>2018-01-11</th>\n",
              "      <td>-0.039495</td>\n",
              "      <td>0.029052</td>\n",
              "    </tr>\n",
              "    <tr>\n",
              "      <th>2018-01-12</th>\n",
              "      <td>-0.027502</td>\n",
              "      <td>-0.055431</td>\n",
              "    </tr>\n",
              "    <tr>\n",
              "      <th>2018-01-15</th>\n",
              "      <td>0.003131</td>\n",
              "      <td>-0.054129</td>\n",
              "    </tr>\n",
              "    <tr>\n",
              "      <th>2018-01-16</th>\n",
              "      <td>0.008154</td>\n",
              "      <td>-0.008422</td>\n",
              "    </tr>\n",
              "    <tr>\n",
              "      <th>2018-01-17</th>\n",
              "      <td>-0.045139</td>\n",
              "      <td>-0.009885</td>\n",
              "    </tr>\n",
              "    <tr>\n",
              "      <th>2018-01-18</th>\n",
              "      <td>-0.023137</td>\n",
              "      <td>0.002953</td>\n",
              "    </tr>\n",
              "    <tr>\n",
              "      <th>2018-01-19</th>\n",
              "      <td>0.003386</td>\n",
              "      <td>0.001075</td>\n",
              "    </tr>\n",
              "    <tr>\n",
              "      <th>2018-01-22</th>\n",
              "      <td>0.008166</td>\n",
              "      <td>-0.000055</td>\n",
              "    </tr>\n",
              "    <tr>\n",
              "      <th>2018-01-23</th>\n",
              "      <td>-0.021317</td>\n",
              "      <td>-0.006775</td>\n",
              "    </tr>\n",
              "    <tr>\n",
              "      <th>2018-01-24</th>\n",
              "      <td>0.001517</td>\n",
              "      <td>-0.005855</td>\n",
              "    </tr>\n",
              "    <tr>\n",
              "      <th>2018-01-25</th>\n",
              "      <td>-0.000767</td>\n",
              "      <td>0.004884</td>\n",
              "    </tr>\n",
              "    <tr>\n",
              "      <th>2018-01-26</th>\n",
              "      <td>-0.012192</td>\n",
              "      <td>-0.046102</td>\n",
              "    </tr>\n",
              "    <tr>\n",
              "      <th>2018-01-29</th>\n",
              "      <td>-0.011967</td>\n",
              "      <td>-0.001096</td>\n",
              "    </tr>\n",
              "    <tr>\n",
              "      <th>2018-01-30</th>\n",
              "      <td>-0.021159</td>\n",
              "      <td>-0.013439</td>\n",
              "    </tr>\n",
              "  </tbody>\n",
              "</table>\n",
              "</div>"
            ],
            "text/plain": [
              "            factor 1  factor 2\n",
              "date                          \n",
              "2018-01-03 -0.003639 -0.003056\n",
              "2018-01-04  0.007816 -0.001133\n",
              "2018-01-05  0.006012  0.000791\n",
              "2018-01-08 -0.018235  0.050861\n",
              "2018-01-09  0.013615  0.008769\n",
              "2018-01-10 -0.004084  0.041623\n",
              "2018-01-11 -0.039495  0.029052\n",
              "2018-01-12 -0.027502 -0.055431\n",
              "2018-01-15  0.003131 -0.054129\n",
              "2018-01-16  0.008154 -0.008422\n",
              "2018-01-17 -0.045139 -0.009885\n",
              "2018-01-18 -0.023137  0.002953\n",
              "2018-01-19  0.003386  0.001075\n",
              "2018-01-22  0.008166 -0.000055\n",
              "2018-01-23 -0.021317 -0.006775\n",
              "2018-01-24  0.001517 -0.005855\n",
              "2018-01-25 -0.000767  0.004884\n",
              "2018-01-26 -0.012192 -0.046102\n",
              "2018-01-29 -0.011967 -0.001096\n",
              "2018-01-30 -0.021159 -0.013439"
            ]
          },
          "metadata": {
            "tags": []
          },
          "execution_count": 435
        }
      ]
    },
    {
      "cell_type": "markdown",
      "metadata": {
        "id": "NkNsWNiU6FE2",
        "colab_type": "text"
      },
      "source": [
        "* We can notice that a small percentage of the currReturn comes from unbsorvable statistical features."
      ]
    },
    {
      "cell_type": "code",
      "metadata": {
        "id": "uTR6F8wBA1JV",
        "colab_type": "code",
        "colab": {}
      },
      "source": [
        "factor_exposures = pd.DataFrame(index=[\"factor 1\", \"factor 2\"], \n",
        "                                columns=ret_data_1.columns,\n",
        "                                data = pca.components_).T"
      ],
      "execution_count": 0,
      "outputs": []
    },
    {
      "cell_type": "code",
      "metadata": {
        "id": "ZlhBLLsBjNZu",
        "colab_type": "code",
        "outputId": "de598956-0518-4188-85fa-a60dc6e38d28",
        "colab": {
          "base_uri": "https://localhost:8080/",
          "height": 550
        }
      },
      "source": [
        "factor_exposures"
      ],
      "execution_count": 437,
      "outputs": [
        {
          "output_type": "execute_result",
          "data": {
            "text/html": [
              "<div>\n",
              "<style scoped>\n",
              "    .dataframe tbody tr th:only-of-type {\n",
              "        vertical-align: middle;\n",
              "    }\n",
              "\n",
              "    .dataframe tbody tr th {\n",
              "        vertical-align: top;\n",
              "    }\n",
              "\n",
              "    .dataframe thead th {\n",
              "        text-align: right;\n",
              "    }\n",
              "</style>\n",
              "<table border=\"1\" class=\"dataframe\">\n",
              "  <thead>\n",
              "    <tr style=\"text-align: right;\">\n",
              "      <th></th>\n",
              "      <th>factor 1</th>\n",
              "      <th>factor 2</th>\n",
              "    </tr>\n",
              "    <tr>\n",
              "      <th>company</th>\n",
              "      <th></th>\n",
              "      <th></th>\n",
              "    </tr>\n",
              "  </thead>\n",
              "  <tbody>\n",
              "    <tr>\n",
              "      <th>WIFACK INT BANK</th>\n",
              "      <td>-0.029179</td>\n",
              "      <td>0.100750</td>\n",
              "    </tr>\n",
              "    <tr>\n",
              "      <th>UIB</th>\n",
              "      <td>-0.371909</td>\n",
              "      <td>-0.056934</td>\n",
              "    </tr>\n",
              "    <tr>\n",
              "      <th>UBCI</th>\n",
              "      <td>0.002179</td>\n",
              "      <td>-0.002172</td>\n",
              "    </tr>\n",
              "    <tr>\n",
              "      <th>STB</th>\n",
              "      <td>-0.450654</td>\n",
              "      <td>0.038612</td>\n",
              "    </tr>\n",
              "    <tr>\n",
              "      <th>BTE (ADP)</th>\n",
              "      <td>0.047872</td>\n",
              "      <td>0.126161</td>\n",
              "    </tr>\n",
              "    <tr>\n",
              "      <th>BIAT</th>\n",
              "      <td>-0.357041</td>\n",
              "      <td>-0.062424</td>\n",
              "    </tr>\n",
              "    <tr>\n",
              "      <th>BH</th>\n",
              "      <td>-0.326409</td>\n",
              "      <td>-0.083331</td>\n",
              "    </tr>\n",
              "    <tr>\n",
              "      <th>BNA</th>\n",
              "      <td>-0.300188</td>\n",
              "      <td>-0.088356</td>\n",
              "    </tr>\n",
              "    <tr>\n",
              "      <th>BT</th>\n",
              "      <td>-0.287889</td>\n",
              "      <td>0.063166</td>\n",
              "    </tr>\n",
              "    <tr>\n",
              "      <th>ATTIJARI BANK</th>\n",
              "      <td>-0.421033</td>\n",
              "      <td>-0.116337</td>\n",
              "    </tr>\n",
              "    <tr>\n",
              "      <th>ATB</th>\n",
              "      <td>-0.025915</td>\n",
              "      <td>-0.000516</td>\n",
              "    </tr>\n",
              "    <tr>\n",
              "      <th>AMEN BANK</th>\n",
              "      <td>-0.099808</td>\n",
              "      <td>-0.038944</td>\n",
              "    </tr>\n",
              "    <tr>\n",
              "      <th>GIF-FILTER</th>\n",
              "      <td>-0.171362</td>\n",
              "      <td>-0.002219</td>\n",
              "    </tr>\n",
              "    <tr>\n",
              "      <th>STIP</th>\n",
              "      <td>-0.066733</td>\n",
              "      <td>0.124876</td>\n",
              "    </tr>\n",
              "    <tr>\n",
              "      <th>STEQ</th>\n",
              "      <td>-0.115845</td>\n",
              "      <td>0.956971</td>\n",
              "    </tr>\n",
              "    <tr>\n",
              "      <th>ASSAD</th>\n",
              "      <td>-0.115292</td>\n",
              "      <td>-0.010720</td>\n",
              "    </tr>\n",
              "  </tbody>\n",
              "</table>\n",
              "</div>"
            ],
            "text/plain": [
              "                 factor 1  factor 2\n",
              "company                            \n",
              "WIFACK INT BANK -0.029179  0.100750\n",
              "UIB             -0.371909 -0.056934\n",
              "UBCI             0.002179 -0.002172\n",
              "STB             -0.450654  0.038612\n",
              "BTE (ADP)        0.047872  0.126161\n",
              "BIAT            -0.357041 -0.062424\n",
              "BH              -0.326409 -0.083331\n",
              "BNA             -0.300188 -0.088356\n",
              "BT              -0.287889  0.063166\n",
              "ATTIJARI BANK   -0.421033 -0.116337\n",
              "ATB             -0.025915 -0.000516\n",
              "AMEN BANK       -0.099808 -0.038944\n",
              "GIF-FILTER      -0.171362 -0.002219\n",
              "STIP            -0.066733  0.124876\n",
              "STEQ            -0.115845  0.956971\n",
              "ASSAD           -0.115292 -0.010720"
            ]
          },
          "metadata": {
            "tags": []
          },
          "execution_count": 437
        }
      ]
    },
    {
      "cell_type": "code",
      "metadata": {
        "id": "VQ5B58VIjRAI",
        "colab_type": "code",
        "colab": {}
      },
      "source": [
        "labels = factor_exposures.index\n",
        "data = factor_exposures.values"
      ],
      "execution_count": 0,
      "outputs": []
    },
    {
      "cell_type": "code",
      "metadata": {
        "id": "Jdz4TVdBjSQP",
        "colab_type": "code",
        "outputId": "880c8866-32e4-4dd1-c296-6274de6e0e19",
        "colab": {
          "base_uri": "https://localhost:8080/",
          "height": 306
        }
      },
      "source": [
        "plt.subplots_adjust(bottom = 0.1)\n",
        "plt.scatter(\n",
        "    data[:, 0], data[:, 1], marker='o', s=300, c='m',\n",
        "    cmap=plt.get_cmap('Spectral'))\n",
        "plt.title('Scatter Plot of Coefficients of PC1 and PC2')\n",
        "plt.xlabel('factor exposure of PC1')\n",
        "plt.ylabel('factor exposure of PC2')\n",
        "\n",
        "for label, x, y in zip(labels, data[:, 0], data[:, 1]):\n",
        "    plt.annotate(\n",
        "        label,\n",
        "        xy=(x, y), xytext=(-20, 20),\n",
        "        textcoords='offset points', ha='right', va='bottom',\n",
        "        bbox=dict(boxstyle='round,pad=0.5', fc='yellow', alpha=0.5),\n",
        "        arrowprops=dict(arrowstyle = '->', connectionstyle='arc3,rad=0')\n",
        "    );"
      ],
      "execution_count": 439,
      "outputs": [
        {
          "output_type": "display_data",
          "data": {
            "image/png": "[encoded data removed]",
            "text/plain": [
              "<Figure size 432x288 with 1 Axes>"
            ]
          },
          "metadata": {
            "tags": [],
            "needs_background": "light"
          }
        }
      ]
    },
    {
      "cell_type": "markdown",
      "metadata": {
        "id": "PS1d6WVxAfyn",
        "colab_type": "text"
      },
      "source": [
        "\n",
        "\n",
        "* We can notice here that for the second PC both of the fields has low coefficients, that means that this PC is not driven a lot by those two fields.\n",
        "\n",
        "* For the first PC, we can notice that it's more driven by the banks then the automobiles. Indeed, the coefficients are low but those of the banks are a bit bigger than the automobiles."
      ]
    },
    {
      "cell_type": "markdown",
      "metadata": {
        "id": "hrlPM2Ih6foQ",
        "colab_type": "text"
      },
      "source": [
        "# Second Field : Insurance vs CONSUMPTION"
      ]
    },
    {
      "cell_type": "code",
      "metadata": {
        "id": "ebqikszP2axJ",
        "colab_type": "code",
        "colab": {}
      },
      "source": [
        "# choose the variables that we will work on it\n",
        "cols_2 = ['TUNIS RE', 'STAR', 'BH','ASTREE','OFFICEPLAST','NEW BODY LINE']"
      ],
      "execution_count": 0,
      "outputs": []
    },
    {
      "cell_type": "code",
      "metadata": {
        "id": "VezJ1lOs9B2x",
        "colab_type": "code",
        "colab": {}
      },
      "source": [
        "# dataset for the month of July\n",
        "ret_data_2 = ret_data.loc[:,cols_2]"
      ],
      "execution_count": 0,
      "outputs": []
    },
    {
      "cell_type": "code",
      "metadata": {
        "id": "CIL03WLz-KqD",
        "colab_type": "code",
        "outputId": "9cbeedd4-7397-4f72-8790-a5656a7053df",
        "colab": {
          "base_uri": "https://localhost:8080/",
          "height": 225
        }
      },
      "source": [
        "ret_data_2.head()"
      ],
      "execution_count": 442,
      "outputs": [
        {
          "output_type": "execute_result",
          "data": {
            "text/html": [
              "<div>\n",
              "<style scoped>\n",
              "    .dataframe tbody tr th:only-of-type {\n",
              "        vertical-align: middle;\n",
              "    }\n",
              "\n",
              "    .dataframe tbody tr th {\n",
              "        vertical-align: top;\n",
              "    }\n",
              "\n",
              "    .dataframe thead th {\n",
              "        text-align: right;\n",
              "    }\n",
              "</style>\n",
              "<table border=\"1\" class=\"dataframe\">\n",
              "  <thead>\n",
              "    <tr style=\"text-align: right;\">\n",
              "      <th>company</th>\n",
              "      <th>TUNIS RE</th>\n",
              "      <th>STAR</th>\n",
              "      <th>BH</th>\n",
              "      <th>ASTREE</th>\n",
              "      <th>OFFICEPLAST</th>\n",
              "      <th>NEW BODY LINE</th>\n",
              "    </tr>\n",
              "    <tr>\n",
              "      <th>date</th>\n",
              "      <th></th>\n",
              "      <th></th>\n",
              "      <th></th>\n",
              "      <th></th>\n",
              "      <th></th>\n",
              "      <th></th>\n",
              "    </tr>\n",
              "  </thead>\n",
              "  <tbody>\n",
              "    <tr>\n",
              "      <th>2018-01-03</th>\n",
              "      <td>-0.017857</td>\n",
              "      <td>0.020408</td>\n",
              "      <td>-0.002706</td>\n",
              "      <td>0.0</td>\n",
              "      <td>-0.046875</td>\n",
              "      <td>-0.010101</td>\n",
              "    </tr>\n",
              "    <tr>\n",
              "      <th>2018-01-04</th>\n",
              "      <td>0.030303</td>\n",
              "      <td>-0.000200</td>\n",
              "      <td>-0.023332</td>\n",
              "      <td>0.0</td>\n",
              "      <td>-0.059016</td>\n",
              "      <td>-0.028571</td>\n",
              "    </tr>\n",
              "    <tr>\n",
              "      <th>2018-01-05</th>\n",
              "      <td>-0.012941</td>\n",
              "      <td>-0.029806</td>\n",
              "      <td>-0.001667</td>\n",
              "      <td>0.0</td>\n",
              "      <td>-0.041812</td>\n",
              "      <td>0.008403</td>\n",
              "    </tr>\n",
              "    <tr>\n",
              "      <th>2018-01-08</th>\n",
              "      <td>-0.021454</td>\n",
              "      <td>-0.000103</td>\n",
              "      <td>-0.009460</td>\n",
              "      <td>0.0</td>\n",
              "      <td>0.058182</td>\n",
              "      <td>-0.002083</td>\n",
              "    </tr>\n",
              "    <tr>\n",
              "      <th>2018-01-09</th>\n",
              "      <td>-0.023143</td>\n",
              "      <td>-0.020518</td>\n",
              "      <td>-0.006742</td>\n",
              "      <td>0.0</td>\n",
              "      <td>0.024055</td>\n",
              "      <td>0.000000</td>\n",
              "    </tr>\n",
              "  </tbody>\n",
              "</table>\n",
              "</div>"
            ],
            "text/plain": [
              "company     TUNIS RE      STAR        BH  ASTREE  OFFICEPLAST  NEW BODY LINE\n",
              "date                                                                        \n",
              "2018-01-03 -0.017857  0.020408 -0.002706     0.0    -0.046875      -0.010101\n",
              "2018-01-04  0.030303 -0.000200 -0.023332     0.0    -0.059016      -0.028571\n",
              "2018-01-05 -0.012941 -0.029806 -0.001667     0.0    -0.041812       0.008403\n",
              "2018-01-08 -0.021454 -0.000103 -0.009460     0.0     0.058182      -0.002083\n",
              "2018-01-09 -0.023143 -0.020518 -0.006742     0.0     0.024055       0.000000"
            ]
          },
          "metadata": {
            "tags": []
          },
          "execution_count": 442
        }
      ]
    },
    {
      "cell_type": "code",
      "metadata": {
        "id": "CSquNrRI_The",
        "colab_type": "code",
        "outputId": "d7040b76-c6af-49c3-ef6b-312cdf90927e",
        "colab": {
          "base_uri": "https://localhost:8080/",
          "height": 101
        }
      },
      "source": [
        "# Let's see the variance while increasing the num_pc\n",
        "X = np.asarray(ret_data_2)\n",
        "[n,m] = X.shape\n",
        "for i in range(1,6):\n",
        "  pca = PCA(n_components=i) # number of principal components\n",
        "  pca.fit(X)\n",
        "\n",
        "  percentage =  pca.explained_variance_ratio_\n",
        "  percentage_cum = np.cumsum(percentage)\n",
        "  print (percentage_cum[-1]*100,'% of the variance is explained by the first',i,' PCs')\n"
      ],
      "execution_count": 443,
      "outputs": [
        {
          "output_type": "stream",
          "text": [
            "30.816062863990062 % of the variance is explained by the first 1  PCs\n",
            "59.22684811339736 % of the variance is explained by the first 2  PCs\n",
            "75.03099556927988 % of the variance is explained by the first 3  PCs\n",
            "88.78006157785453 % of the variance is explained by the first 4  PCs\n",
            "96.85222456334917 % of the variance is explained by the first 5  PCs\n"
          ],
          "name": "stdout"
        }
      ]
    },
    {
      "cell_type": "markdown",
      "metadata": {
        "id": "QbDwy-rK-eTL",
        "colab_type": "text"
      },
      "source": [
        "* We can see that just from 5 PCs we can get almost all the variance of the dataset."
      ]
    },
    {
      "cell_type": "code",
      "metadata": {
        "id": "sfLbMo2X_o1N",
        "colab_type": "code",
        "outputId": "a6ca6f50-dfdc-4a63-d795-ce7f055e404d",
        "colab": {
          "base_uri": "https://localhost:8080/",
          "height": 67
        }
      },
      "source": [
        "#num_pc = 2\n",
        "from sklearn.decomposition import PCA\n",
        "num_pc = 2\n",
        "\n",
        "\n",
        "print ('The number of timestamps is {}.',n)\n",
        "print ('The number of stocks is {}.',m)\n",
        "\n",
        "pca = PCA(n_components=num_pc) # number of principal components\n",
        "pca.fit(X)\n",
        "\n",
        "percentage =  pca.explained_variance_ratio_\n",
        "percentage_cum = np.cumsum(percentage)\n",
        "print (percentage_cum[-1]*100,'% of the variance is explained by the first 2 PCs')\n",
        "\n",
        "pca_components = pca.components_"
      ],
      "execution_count": 444,
      "outputs": [
        {
          "output_type": "stream",
          "text": [
            "The number of timestamps is {}. 248\n",
            "The number of stocks is {}. 6\n",
            "59.22684811339736 % of the variance is explained by the first 2 PCs\n"
          ],
          "name": "stdout"
        }
      ]
    },
    {
      "cell_type": "markdown",
      "metadata": {
        "id": "fN-X8-dcWKJ6",
        "colab_type": "text"
      },
      "source": [
        " * Here we lost almost 40% of the data"
      ]
    },
    {
      "cell_type": "code",
      "metadata": {
        "id": "1dF4La-9_dI-",
        "colab_type": "code",
        "outputId": "ada75883-19a7-466d-f539-96b3b0bc7ef6",
        "colab": {
          "base_uri": "https://localhost:8080/",
          "height": 291
        }
      },
      "source": [
        "#Now we collect the first 2 principal components and plot their contributions.\n",
        "x = np.arange(1,len(percentage)+1,1)\n",
        "\n",
        "plt.subplot(1, 2, 1)\n",
        "plt.bar(x, percentage*100, align = \"center\")\n",
        "plt.title('Contribution of principal components',fontsize = 9)\n",
        "plt.xlabel('principal components',fontsize = 9)\n",
        "plt.ylabel('percentage',fontsize = 9)\n",
        "plt.xticks(x,fontsize = 10) \n",
        "plt.yticks(fontsize = 10)\n",
        "plt.xlim([0, num_pc+1])\n",
        "\n",
        "plt.subplot(1, 2, 2)\n",
        "plt.plot(x, percentage_cum*100,'ro-')\n",
        "plt.xlabel('principal components',fontsize = 9)\n",
        "plt.ylabel('percentage',fontsize = 9)\n",
        "plt.title('Cumulative contribution of principal components',fontsize = 9)\n",
        "plt.xticks(x,fontsize = 10) \n",
        "plt.yticks(fontsize = 10)\n",
        "plt.xlim([1, num_pc])\n",
        "plt.ylim([0,100]);"
      ],
      "execution_count": 445,
      "outputs": [
        {
          "output_type": "display_data",
          "data": {
            "image/png": "[encoded data removed]",
            "text/plain": [
              "<Figure size 432x288 with 2 Axes>"
            ]
          },
          "metadata": {
            "tags": [],
            "needs_background": "light"
          }
        }
      ]
    },
    {
      "cell_type": "markdown",
      "metadata": {
        "id": "QLKwKRTZWWGB",
        "colab_type": "text"
      },
      "source": [
        "* Notice here that the first PC gives 31% of the data and the second gives almost 28% of the data"
      ]
    },
    {
      "cell_type": "code",
      "metadata": {
        "id": "dEr7NB9U_vEg",
        "colab_type": "code",
        "outputId": "8f787532-6571-4bbf-83fa-3d95b4d47e38",
        "colab": {
          "base_uri": "https://localhost:8080/",
          "height": 669
        }
      },
      "source": [
        "#From these principal components we can construct \"statistical risk factors\",\n",
        "# similar to more conventional common risk factors. These should give us an idea of how much \n",
        "#of the currReturn comes from some unobservable statistical feature.\n",
        "factor_returns = X.dot(pca_components.T)\n",
        "factor_returns = pd.DataFrame(columns=[\"factor 1\", \"factor 2\"], \n",
        "                              index=ret_data_2.index,\n",
        "                              data=factor_returns)\n",
        "factor_returns.head(20)"
      ],
      "execution_count": 446,
      "outputs": [
        {
          "output_type": "execute_result",
          "data": {
            "text/html": [
              "<div>\n",
              "<style scoped>\n",
              "    .dataframe tbody tr th:only-of-type {\n",
              "        vertical-align: middle;\n",
              "    }\n",
              "\n",
              "    .dataframe tbody tr th {\n",
              "        vertical-align: top;\n",
              "    }\n",
              "\n",
              "    .dataframe thead th {\n",
              "        text-align: right;\n",
              "    }\n",
              "</style>\n",
              "<table border=\"1\" class=\"dataframe\">\n",
              "  <thead>\n",
              "    <tr style=\"text-align: right;\">\n",
              "      <th></th>\n",
              "      <th>factor 1</th>\n",
              "      <th>factor 2</th>\n",
              "    </tr>\n",
              "    <tr>\n",
              "      <th>date</th>\n",
              "      <th></th>\n",
              "      <th></th>\n",
              "    </tr>\n",
              "  </thead>\n",
              "  <tbody>\n",
              "    <tr>\n",
              "      <th>2018-01-03</th>\n",
              "      <td>-0.002464</td>\n",
              "      <td>0.049658</td>\n",
              "    </tr>\n",
              "    <tr>\n",
              "      <th>2018-01-04</th>\n",
              "      <td>-0.029422</td>\n",
              "      <td>0.053285</td>\n",
              "    </tr>\n",
              "    <tr>\n",
              "      <th>2018-01-05</th>\n",
              "      <td>-0.045423</td>\n",
              "      <td>0.018266</td>\n",
              "    </tr>\n",
              "    <tr>\n",
              "      <th>2018-01-08</th>\n",
              "      <td>0.029148</td>\n",
              "      <td>-0.047550</td>\n",
              "    </tr>\n",
              "    <tr>\n",
              "      <th>2018-01-09</th>\n",
              "      <td>-0.003686</td>\n",
              "      <td>-0.030803</td>\n",
              "    </tr>\n",
              "    <tr>\n",
              "      <th>2018-01-10</th>\n",
              "      <td>-0.003134</td>\n",
              "      <td>0.006476</td>\n",
              "    </tr>\n",
              "    <tr>\n",
              "      <th>2018-01-11</th>\n",
              "      <td>0.005247</td>\n",
              "      <td>-0.009736</td>\n",
              "    </tr>\n",
              "    <tr>\n",
              "      <th>2018-01-12</th>\n",
              "      <td>-0.022972</td>\n",
              "      <td>-0.020350</td>\n",
              "    </tr>\n",
              "    <tr>\n",
              "      <th>2018-01-15</th>\n",
              "      <td>-0.011140</td>\n",
              "      <td>-0.003551</td>\n",
              "    </tr>\n",
              "    <tr>\n",
              "      <th>2018-01-16</th>\n",
              "      <td>-0.006025</td>\n",
              "      <td>0.002255</td>\n",
              "    </tr>\n",
              "    <tr>\n",
              "      <th>2018-01-17</th>\n",
              "      <td>0.003719</td>\n",
              "      <td>0.010529</td>\n",
              "    </tr>\n",
              "    <tr>\n",
              "      <th>2018-01-18</th>\n",
              "      <td>-0.011920</td>\n",
              "      <td>0.011903</td>\n",
              "    </tr>\n",
              "    <tr>\n",
              "      <th>2018-01-19</th>\n",
              "      <td>0.020056</td>\n",
              "      <td>0.012575</td>\n",
              "    </tr>\n",
              "    <tr>\n",
              "      <th>2018-01-22</th>\n",
              "      <td>-0.006549</td>\n",
              "      <td>-0.006767</td>\n",
              "    </tr>\n",
              "    <tr>\n",
              "      <th>2018-01-23</th>\n",
              "      <td>0.002796</td>\n",
              "      <td>0.000742</td>\n",
              "    </tr>\n",
              "    <tr>\n",
              "      <th>2018-01-24</th>\n",
              "      <td>-0.015808</td>\n",
              "      <td>0.005871</td>\n",
              "    </tr>\n",
              "    <tr>\n",
              "      <th>2018-01-25</th>\n",
              "      <td>-0.017800</td>\n",
              "      <td>-0.001743</td>\n",
              "    </tr>\n",
              "    <tr>\n",
              "      <th>2018-01-26</th>\n",
              "      <td>-0.011875</td>\n",
              "      <td>0.029034</td>\n",
              "    </tr>\n",
              "    <tr>\n",
              "      <th>2018-01-29</th>\n",
              "      <td>-0.011780</td>\n",
              "      <td>0.005717</td>\n",
              "    </tr>\n",
              "    <tr>\n",
              "      <th>2018-01-30</th>\n",
              "      <td>-0.015649</td>\n",
              "      <td>0.037634</td>\n",
              "    </tr>\n",
              "  </tbody>\n",
              "</table>\n",
              "</div>"
            ],
            "text/plain": [
              "            factor 1  factor 2\n",
              "date                          \n",
              "2018-01-03 -0.002464  0.049658\n",
              "2018-01-04 -0.029422  0.053285\n",
              "2018-01-05 -0.045423  0.018266\n",
              "2018-01-08  0.029148 -0.047550\n",
              "2018-01-09 -0.003686 -0.030803\n",
              "2018-01-10 -0.003134  0.006476\n",
              "2018-01-11  0.005247 -0.009736\n",
              "2018-01-12 -0.022972 -0.020350\n",
              "2018-01-15 -0.011140 -0.003551\n",
              "2018-01-16 -0.006025  0.002255\n",
              "2018-01-17  0.003719  0.010529\n",
              "2018-01-18 -0.011920  0.011903\n",
              "2018-01-19  0.020056  0.012575\n",
              "2018-01-22 -0.006549 -0.006767\n",
              "2018-01-23  0.002796  0.000742\n",
              "2018-01-24 -0.015808  0.005871\n",
              "2018-01-25 -0.017800 -0.001743\n",
              "2018-01-26 -0.011875  0.029034\n",
              "2018-01-29 -0.011780  0.005717\n",
              "2018-01-30 -0.015649  0.037634"
            ]
          },
          "metadata": {
            "tags": []
          },
          "execution_count": 446
        }
      ]
    },
    {
      "cell_type": "markdown",
      "metadata": {
        "id": "ev9Hzc9I-tAi",
        "colab_type": "text"
      },
      "source": [
        "* We can not notice that the first risk factor is very very low as well as the second."
      ]
    },
    {
      "cell_type": "code",
      "metadata": {
        "id": "CoeYq9yWAEKY",
        "colab_type": "code",
        "colab": {}
      },
      "source": [
        "factor_exposures = pd.DataFrame(index=[\"factor 1\", \"factor 2\"], \n",
        "                                columns=ret_data_2.columns,\n",
        "                                data = pca.components_).T"
      ],
      "execution_count": 0,
      "outputs": []
    },
    {
      "cell_type": "code",
      "metadata": {
        "id": "Nk1ChyJgAC5a",
        "colab_type": "code",
        "outputId": "1453d24a-6362-4507-cde6-936aaa38a75f",
        "colab": {
          "base_uri": "https://localhost:8080/",
          "height": 254
        }
      },
      "source": [
        "factor_exposures"
      ],
      "execution_count": 448,
      "outputs": [
        {
          "output_type": "execute_result",
          "data": {
            "text/html": [
              "<div>\n",
              "<style scoped>\n",
              "    .dataframe tbody tr th:only-of-type {\n",
              "        vertical-align: middle;\n",
              "    }\n",
              "\n",
              "    .dataframe tbody tr th {\n",
              "        vertical-align: top;\n",
              "    }\n",
              "\n",
              "    .dataframe thead th {\n",
              "        text-align: right;\n",
              "    }\n",
              "</style>\n",
              "<table border=\"1\" class=\"dataframe\">\n",
              "  <thead>\n",
              "    <tr style=\"text-align: right;\">\n",
              "      <th></th>\n",
              "      <th>factor 1</th>\n",
              "      <th>factor 2</th>\n",
              "    </tr>\n",
              "    <tr>\n",
              "      <th>company</th>\n",
              "      <th></th>\n",
              "      <th></th>\n",
              "    </tr>\n",
              "  </thead>\n",
              "  <tbody>\n",
              "    <tr>\n",
              "      <th>TUNIS RE</th>\n",
              "      <td>-0.105841</td>\n",
              "      <td>0.033961</td>\n",
              "    </tr>\n",
              "    <tr>\n",
              "      <th>STAR</th>\n",
              "      <td>0.804110</td>\n",
              "      <td>0.540617</td>\n",
              "    </tr>\n",
              "    <tr>\n",
              "      <th>BH</th>\n",
              "      <td>0.199029</td>\n",
              "      <td>-0.146140</td>\n",
              "    </tr>\n",
              "    <tr>\n",
              "      <th>ASTREE</th>\n",
              "      <td>-0.021151</td>\n",
              "      <td>0.012197</td>\n",
              "    </tr>\n",
              "    <tr>\n",
              "      <th>OFFICEPLAST</th>\n",
              "      <td>0.486583</td>\n",
              "      <td>-0.827684</td>\n",
              "    </tr>\n",
              "    <tr>\n",
              "      <th>NEW BODY LINE</th>\n",
              "      <td>-0.255699</td>\n",
              "      <td>-0.003754</td>\n",
              "    </tr>\n",
              "  </tbody>\n",
              "</table>\n",
              "</div>"
            ],
            "text/plain": [
              "               factor 1  factor 2\n",
              "company                          \n",
              "TUNIS RE      -0.105841  0.033961\n",
              "STAR           0.804110  0.540617\n",
              "BH             0.199029 -0.146140\n",
              "ASTREE        -0.021151  0.012197\n",
              "OFFICEPLAST    0.486583 -0.827684\n",
              "NEW BODY LINE -0.255699 -0.003754"
            ]
          },
          "metadata": {
            "tags": []
          },
          "execution_count": 448
        }
      ]
    },
    {
      "cell_type": "code",
      "metadata": {
        "id": "39XBSnadABfX",
        "colab_type": "code",
        "colab": {}
      },
      "source": [
        "labels = factor_exposures.index\n",
        "data = factor_exposures.values"
      ],
      "execution_count": 0,
      "outputs": []
    },
    {
      "cell_type": "code",
      "metadata": {
        "id": "UCYg0v2A_5d1",
        "colab_type": "code",
        "outputId": "9a0bff1d-17a0-4ddf-b959-f016500fc51c",
        "colab": {
          "base_uri": "https://localhost:8080/",
          "height": 306
        }
      },
      "source": [
        "plt.subplots_adjust(bottom = 0.1)\n",
        "plt.scatter(\n",
        "    data[:, 0], data[:, 1], marker='o', s=300, c='m',\n",
        "    cmap=plt.get_cmap('Spectral'))\n",
        "plt.title('Scatter Plot of Coefficients of PC1 and PC2')\n",
        "plt.xlabel('factor exposure of PC1')\n",
        "plt.ylabel('factor exposure of PC2')\n",
        "\n",
        "for label, x, y in zip(labels, data[:, 0], data[:, 1]):\n",
        "    plt.annotate(\n",
        "        label,\n",
        "        xy=(x, y), xytext=(-20, 20),\n",
        "        textcoords='offset points', ha='right', va='bottom',\n",
        "        bbox=dict(boxstyle='round,pad=0.5', fc='yellow', alpha=0.5),\n",
        "        arrowprops=dict(arrowstyle = '->', connectionstyle='arc3,rad=0')\n",
        "    );"
      ],
      "execution_count": 450,
      "outputs": [
        {
          "output_type": "display_data",
          "data": {
            "image/png": "[encoded data removed]",
            "text/plain": [
              "<Figure size 432x288 with 1 Axes>"
            ]
          },
          "metadata": {
            "tags": [],
            "needs_background": "light"
          }
        }
      ]
    },
    {
      "cell_type": "markdown",
      "metadata": {
        "id": "LQ_P9igZ_ccU",
        "colab_type": "text"
      },
      "source": [
        "\n",
        "\n",
        "* We notice here that that first PC is driven by the consumption field via the company OFFICEPLAST that got a coefficient around 0.5 and it is almost a bit driven by the insurance field via the company STAR but in general it's not driven by almost all the companies.\n",
        "\n",
        "* For the second component, it's not driven by the insurance field: all most all the companies has a 0 coefficient. But it's  driven by the consumption field via the OFFICEPLAST company that has a coefficient around -0.8."
      ]
    }
  ]
}