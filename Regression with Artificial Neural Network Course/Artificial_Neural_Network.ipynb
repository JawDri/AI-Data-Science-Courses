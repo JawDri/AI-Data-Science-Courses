{
  "nbformat": 4,
  "nbformat_minor": 0,
  "metadata": {
    "colab": {
      "name": "Artificial Neural Network",
      "provenance": [],
      "collapsed_sections": []
    },
    "kernelspec": {
      "name": "python3",
      "display_name": "Python 3"
    }
  },
  "cells": [
    {
      "cell_type": "markdown",
      "metadata": {
        "id": "3cbb7fRy-eyr",
        "colab_type": "text"
      },
      "source": [
        "# Artificial Neural Network"
      ]
    },
    {
      "cell_type": "markdown",
      "metadata": {
        "id": "8sNDnxE2-pwE",
        "colab_type": "text"
      },
      "source": [
        "### Importing the libraries"
      ]
    },
    {
      "cell_type": "code",
      "metadata": {
        "id": "lxChR1Rk-umf",
        "colab_type": "code",
        "colab": {}
      },
      "source": [
        "import numpy as np\n",
        "import pandas as pd\n",
        "import tensorflow as tf"
      ],
      "execution_count": 0,
      "outputs": []
    },
    {
      "cell_type": "code",
      "metadata": {
        "id": "uBTqR3nacj0e",
        "colab_type": "code",
        "outputId": "6e6005ff-d8ff-4e25-ad49-54e484e0befa",
        "colab": {
          "base_uri": "https://localhost:8080/",
          "height": 34
        }
      },
      "source": [
        "tf.__version__"
      ],
      "execution_count": 53,
      "outputs": [
        {
          "output_type": "execute_result",
          "data": {
            "text/plain": [
              "'2.2.0-rc2'"
            ]
          },
          "metadata": {
            "tags": []
          },
          "execution_count": 53
        }
      ]
    },
    {
      "cell_type": "code",
      "metadata": {
        "id": "7Y6rKdjGGQyH",
        "colab_type": "code",
        "colab": {
          "base_uri": "https://localhost:8080/",
          "height": 222
        },
        "outputId": "0129f9a7-af91-4fa9-fd26-34dcadbd4734"
      },
      "source": [
        "!wget https://colab.research.google.com/drive/1eje9zILprgVmohMN7cKykI3fn4FBRPnF"
      ],
      "execution_count": 54,
      "outputs": [
        {
          "output_type": "stream",
          "text": [
            "--2020-04-11 21:57:28--  https://colab.research.google.com/drive/1eje9zILprgVmohMN7cKykI3fn4FBRPnF\n",
            "Resolving colab.research.google.com (colab.research.google.com)... 64.233.189.139, 64.233.189.138, 64.233.189.100, ...\n",
            "Connecting to colab.research.google.com (colab.research.google.com)|64.233.189.139|:443... connected.\n",
            "HTTP request sent, awaiting response... 200 OK\n",
            "Length: unspecified [text/html]\n",
            "Saving to: ‘1eje9zILprgVmohMN7cKykI3fn4FBRPnF.4’\n",
            "\n",
            "\r          1eje9zILp     [<=>                 ]       0  --.-KB/s               \r1eje9zILprgVmohMN7c     [ <=>                ]  66.99K  --.-KB/s    in 0.07s   \n",
            "\n",
            "2020-04-11 21:57:28 (969 KB/s) - ‘1eje9zILprgVmohMN7cKykI3fn4FBRPnF.4’ saved [68595]\n",
            "\n"
          ],
          "name": "stdout"
        }
      ]
    },
    {
      "cell_type": "markdown",
      "metadata": {
        "id": "AG3FQEch-yuA",
        "colab_type": "text"
      },
      "source": [
        "## Part 1 - Data Preprocessing"
      ]
    },
    {
      "cell_type": "markdown",
      "metadata": {
        "id": "-4zq8Mza_D9O",
        "colab_type": "text"
      },
      "source": [
        "### Importing the dataset"
      ]
    },
    {
      "cell_type": "code",
      "metadata": {
        "id": "B9CV13Co_HHM",
        "colab_type": "code",
        "colab": {}
      },
      "source": [
        "dataset = pd.read_excel('Folds5x2_pp.xlsx')\n",
        "X = dataset.iloc[:, :-1].values\n",
        "y = dataset.iloc[:, -1].values"
      ],
      "execution_count": 0,
      "outputs": []
    },
    {
      "cell_type": "code",
      "metadata": {
        "id": "nSwHYDj9H7eD",
        "colab_type": "code",
        "colab": {
          "base_uri": "https://localhost:8080/",
          "height": 195
        },
        "outputId": "11c1ae10-67f4-4a16-b171-eaaa9fa85eea"
      },
      "source": [
        "dataset.head()"
      ],
      "execution_count": 56,
      "outputs": [
        {
          "output_type": "execute_result",
          "data": {
            "text/html": [
              "<div>\n",
              "<style scoped>\n",
              "    .dataframe tbody tr th:only-of-type {\n",
              "        vertical-align: middle;\n",
              "    }\n",
              "\n",
              "    .dataframe tbody tr th {\n",
              "        vertical-align: top;\n",
              "    }\n",
              "\n",
              "    .dataframe thead th {\n",
              "        text-align: right;\n",
              "    }\n",
              "</style>\n",
              "<table border=\"1\" class=\"dataframe\">\n",
              "  <thead>\n",
              "    <tr style=\"text-align: right;\">\n",
              "      <th></th>\n",
              "      <th>AT</th>\n",
              "      <th>V</th>\n",
              "      <th>AP</th>\n",
              "      <th>RH</th>\n",
              "      <th>PE</th>\n",
              "    </tr>\n",
              "  </thead>\n",
              "  <tbody>\n",
              "    <tr>\n",
              "      <th>0</th>\n",
              "      <td>14.96</td>\n",
              "      <td>41.76</td>\n",
              "      <td>1024.07</td>\n",
              "      <td>73.17</td>\n",
              "      <td>463.26</td>\n",
              "    </tr>\n",
              "    <tr>\n",
              "      <th>1</th>\n",
              "      <td>25.18</td>\n",
              "      <td>62.96</td>\n",
              "      <td>1020.04</td>\n",
              "      <td>59.08</td>\n",
              "      <td>444.37</td>\n",
              "    </tr>\n",
              "    <tr>\n",
              "      <th>2</th>\n",
              "      <td>5.11</td>\n",
              "      <td>39.40</td>\n",
              "      <td>1012.16</td>\n",
              "      <td>92.14</td>\n",
              "      <td>488.56</td>\n",
              "    </tr>\n",
              "    <tr>\n",
              "      <th>3</th>\n",
              "      <td>20.86</td>\n",
              "      <td>57.32</td>\n",
              "      <td>1010.24</td>\n",
              "      <td>76.64</td>\n",
              "      <td>446.48</td>\n",
              "    </tr>\n",
              "    <tr>\n",
              "      <th>4</th>\n",
              "      <td>10.82</td>\n",
              "      <td>37.50</td>\n",
              "      <td>1009.23</td>\n",
              "      <td>96.62</td>\n",
              "      <td>473.90</td>\n",
              "    </tr>\n",
              "  </tbody>\n",
              "</table>\n",
              "</div>"
            ],
            "text/plain": [
              "      AT      V       AP     RH      PE\n",
              "0  14.96  41.76  1024.07  73.17  463.26\n",
              "1  25.18  62.96  1020.04  59.08  444.37\n",
              "2   5.11  39.40  1012.16  92.14  488.56\n",
              "3  20.86  57.32  1010.24  76.64  446.48\n",
              "4  10.82  37.50  1009.23  96.62  473.90"
            ]
          },
          "metadata": {
            "tags": []
          },
          "execution_count": 56
        }
      ]
    },
    {
      "cell_type": "markdown",
      "metadata": {
        "id": "VC6omXel_Up0",
        "colab_type": "text"
      },
      "source": [
        "### Splitting the dataset into the Training set and Test set"
      ]
    },
    {
      "cell_type": "code",
      "metadata": {
        "id": "L5edeb2r_agx",
        "colab_type": "code",
        "colab": {}
      },
      "source": [
        "from sklearn.model_selection import train_test_split\n",
        "X_train, X_test, y_train, y_test = train_test_split(X, y, test_size = 0.2, random_state = 0)"
      ],
      "execution_count": 0,
      "outputs": []
    },
    {
      "cell_type": "markdown",
      "metadata": {
        "id": "_mSLlAT9_eyI",
        "colab_type": "text"
      },
      "source": [
        "## Part 2 - Building the ANN"
      ]
    },
    {
      "cell_type": "markdown",
      "metadata": {
        "id": "CsBULd_f_wLY",
        "colab_type": "text"
      },
      "source": [
        "### Initializing the ANN"
      ]
    },
    {
      "cell_type": "code",
      "metadata": {
        "id": "J6Hd97Ls__Nz",
        "colab_type": "code",
        "colab": {}
      },
      "source": [
        "ann = tf.keras.models.Sequential()"
      ],
      "execution_count": 0,
      "outputs": []
    },
    {
      "cell_type": "markdown",
      "metadata": {
        "id": "iitAFJS_ABUn",
        "colab_type": "text"
      },
      "source": [
        "### Adding the input layer and the first hidden layer"
      ]
    },
    {
      "cell_type": "code",
      "metadata": {
        "id": "ksO_Vv40AHix",
        "colab_type": "code",
        "colab": {}
      },
      "source": [
        "ann.add(tf.keras.layers.Dense(units=6, activation='relu'))"
      ],
      "execution_count": 0,
      "outputs": []
    },
    {
      "cell_type": "markdown",
      "metadata": {
        "id": "-lb4kK_wAKbs",
        "colab_type": "text"
      },
      "source": [
        "### Adding the second hidden layer"
      ]
    },
    {
      "cell_type": "code",
      "metadata": {
        "id": "c2357OqEAQOQ",
        "colab_type": "code",
        "colab": {}
      },
      "source": [
        "ann.add(tf.keras.layers.Dense(units=6, activation='relu'))"
      ],
      "execution_count": 0,
      "outputs": []
    },
    {
      "cell_type": "markdown",
      "metadata": {
        "id": "jwMOmKb3AdBY",
        "colab_type": "text"
      },
      "source": [
        "### Adding the output layer"
      ]
    },
    {
      "cell_type": "code",
      "metadata": {
        "id": "YFATpzsUAkLL",
        "colab_type": "code",
        "colab": {}
      },
      "source": [
        "ann.add(tf.keras.layers.Dense(units=1))"
      ],
      "execution_count": 0,
      "outputs": []
    },
    {
      "cell_type": "markdown",
      "metadata": {
        "id": "fq7e4fF6A1yy",
        "colab_type": "text"
      },
      "source": [
        "## Part 3 - Training the ANN"
      ]
    },
    {
      "cell_type": "markdown",
      "metadata": {
        "id": "qDeylAs2An25",
        "colab_type": "text"
      },
      "source": [
        "### Compiling the ANN"
      ]
    },
    {
      "cell_type": "code",
      "metadata": {
        "id": "pesgbWlCAtB4",
        "colab_type": "code",
        "colab": {}
      },
      "source": [
        "ann.compile(optimizer = 'adam', loss = 'mean_squared_error')"
      ],
      "execution_count": 0,
      "outputs": []
    },
    {
      "cell_type": "markdown",
      "metadata": {
        "id": "YjVuiybYOo7r",
        "colab_type": "text"
      },
      "source": [
        "### Training the ANN model on the Training set"
      ]
    },
    {
      "cell_type": "code",
      "metadata": {
        "id": "c_vV-tiiA5zn",
        "colab_type": "code",
        "outputId": "54bdf4b0-fb35-490c-bfb0-8008dd9174c8",
        "colab": {
          "base_uri": "https://localhost:8080/",
          "height": 1000
        }
      },
      "source": [
        "ann.fit(X_train, y_train,validation_data=(X_test,y_test), batch_size = 32, epochs = 100)"
      ],
      "execution_count": 63,
      "outputs": [
        {
          "output_type": "stream",
          "text": [
            "Epoch 1/100\n",
            "240/240 [==============================] - 0s 2ms/step - loss: 437545.1250 - val_loss: 145065.4531\n",
            "Epoch 2/100\n",
            "240/240 [==============================] - 0s 2ms/step - loss: 24386.9121 - val_loss: 317.4125\n",
            "Epoch 3/100\n",
            "240/240 [==============================] - 0s 2ms/step - loss: 317.3698 - val_loss: 303.8807\n",
            "Epoch 4/100\n",
            "240/240 [==============================] - 0s 2ms/step - loss: 302.2722 - val_loss: 290.4647\n",
            "Epoch 5/100\n",
            "240/240 [==============================] - 0s 2ms/step - loss: 289.3659 - val_loss: 279.9545\n",
            "Epoch 6/100\n",
            "240/240 [==============================] - 0s 2ms/step - loss: 280.4748 - val_loss: 271.3849\n",
            "Epoch 7/100\n",
            "240/240 [==============================] - 0s 2ms/step - loss: 271.8098 - val_loss: 262.9963\n",
            "Epoch 8/100\n",
            "240/240 [==============================] - 0s 2ms/step - loss: 263.8846 - val_loss: 254.3151\n",
            "Epoch 9/100\n",
            "240/240 [==============================] - 0s 2ms/step - loss: 254.5294 - val_loss: 244.1479\n",
            "Epoch 10/100\n",
            "240/240 [==============================] - 0s 2ms/step - loss: 243.5572 - val_loss: 234.8399\n",
            "Epoch 11/100\n",
            "240/240 [==============================] - 0s 2ms/step - loss: 232.8928 - val_loss: 224.0701\n",
            "Epoch 12/100\n",
            "240/240 [==============================] - 0s 1ms/step - loss: 220.9409 - val_loss: 210.8935\n",
            "Epoch 13/100\n",
            "240/240 [==============================] - 0s 1ms/step - loss: 209.5966 - val_loss: 198.6322\n",
            "Epoch 14/100\n",
            "240/240 [==============================] - 0s 1ms/step - loss: 196.5493 - val_loss: 188.4272\n",
            "Epoch 15/100\n",
            "240/240 [==============================] - 0s 1ms/step - loss: 183.3443 - val_loss: 174.0234\n",
            "Epoch 16/100\n",
            "240/240 [==============================] - 0s 1ms/step - loss: 169.7141 - val_loss: 161.1044\n",
            "Epoch 17/100\n",
            "240/240 [==============================] - 0s 1ms/step - loss: 157.0683 - val_loss: 147.5346\n",
            "Epoch 18/100\n",
            "240/240 [==============================] - 0s 1ms/step - loss: 144.3456 - val_loss: 134.3275\n",
            "Epoch 19/100\n",
            "240/240 [==============================] - 0s 1ms/step - loss: 131.0210 - val_loss: 121.4226\n",
            "Epoch 20/100\n",
            "240/240 [==============================] - 0s 1ms/step - loss: 118.0592 - val_loss: 108.9916\n",
            "Epoch 21/100\n",
            "240/240 [==============================] - 0s 1ms/step - loss: 105.6352 - val_loss: 97.1839\n",
            "Epoch 22/100\n",
            "240/240 [==============================] - 0s 1ms/step - loss: 93.9789 - val_loss: 86.1554\n",
            "Epoch 23/100\n",
            "240/240 [==============================] - 0s 1ms/step - loss: 83.5486 - val_loss: 75.9997\n",
            "Epoch 24/100\n",
            "240/240 [==============================] - 0s 1ms/step - loss: 73.0513 - val_loss: 66.6508\n",
            "Epoch 25/100\n",
            "240/240 [==============================] - 0s 1ms/step - loss: 64.1640 - val_loss: 60.6744\n",
            "Epoch 26/100\n",
            "240/240 [==============================] - 0s 1ms/step - loss: 56.3005 - val_loss: 50.8683\n",
            "Epoch 27/100\n",
            "240/240 [==============================] - 0s 1ms/step - loss: 49.8093 - val_loss: 44.8782\n",
            "Epoch 28/100\n",
            "240/240 [==============================] - 0s 1ms/step - loss: 44.3593 - val_loss: 40.9891\n",
            "Epoch 29/100\n",
            "240/240 [==============================] - 0s 1ms/step - loss: 39.9976 - val_loss: 37.8502\n",
            "Epoch 30/100\n",
            "240/240 [==============================] - 0s 1ms/step - loss: 36.3914 - val_loss: 34.2709\n",
            "Epoch 31/100\n",
            "240/240 [==============================] - 0s 1ms/step - loss: 34.4471 - val_loss: 31.5760\n",
            "Epoch 32/100\n",
            "240/240 [==============================] - 0s 1ms/step - loss: 32.3305 - val_loss: 30.0625\n",
            "Epoch 33/100\n",
            "240/240 [==============================] - 0s 1ms/step - loss: 30.9280 - val_loss: 29.6724\n",
            "Epoch 34/100\n",
            "240/240 [==============================] - 0s 1ms/step - loss: 30.5718 - val_loss: 28.5546\n",
            "Epoch 35/100\n",
            "240/240 [==============================] - 0s 1ms/step - loss: 29.6303 - val_loss: 27.6214\n",
            "Epoch 36/100\n",
            "240/240 [==============================] - 0s 1ms/step - loss: 29.6311 - val_loss: 27.1709\n",
            "Epoch 37/100\n",
            "240/240 [==============================] - 0s 1ms/step - loss: 28.4137 - val_loss: 27.0944\n",
            "Epoch 38/100\n",
            "240/240 [==============================] - 0s 1ms/step - loss: 28.1991 - val_loss: 28.1141\n",
            "Epoch 39/100\n",
            "240/240 [==============================] - 0s 1ms/step - loss: 28.8830 - val_loss: 36.1107\n",
            "Epoch 40/100\n",
            "240/240 [==============================] - 0s 1ms/step - loss: 28.1547 - val_loss: 26.9147\n",
            "Epoch 41/100\n",
            "240/240 [==============================] - 0s 1ms/step - loss: 27.4222 - val_loss: 25.5988\n",
            "Epoch 42/100\n",
            "240/240 [==============================] - 0s 1ms/step - loss: 27.9236 - val_loss: 25.8380\n",
            "Epoch 43/100\n",
            "240/240 [==============================] - 0s 1ms/step - loss: 26.9794 - val_loss: 25.7723\n",
            "Epoch 44/100\n",
            "240/240 [==============================] - 0s 1ms/step - loss: 27.0310 - val_loss: 25.7259\n",
            "Epoch 45/100\n",
            "240/240 [==============================] - 0s 1ms/step - loss: 26.8819 - val_loss: 25.9499\n",
            "Epoch 46/100\n",
            "240/240 [==============================] - 0s 1ms/step - loss: 26.8130 - val_loss: 28.2588\n",
            "Epoch 47/100\n",
            "240/240 [==============================] - 0s 1ms/step - loss: 27.1146 - val_loss: 30.0724\n",
            "Epoch 48/100\n",
            "240/240 [==============================] - 0s 1ms/step - loss: 26.5802 - val_loss: 26.1478\n",
            "Epoch 49/100\n",
            "240/240 [==============================] - 0s 1ms/step - loss: 26.9009 - val_loss: 24.7583\n",
            "Epoch 50/100\n",
            "240/240 [==============================] - 0s 1ms/step - loss: 26.9455 - val_loss: 26.6656\n",
            "Epoch 51/100\n",
            "240/240 [==============================] - 0s 1ms/step - loss: 26.9365 - val_loss: 27.5447\n",
            "Epoch 52/100\n",
            "240/240 [==============================] - 0s 1ms/step - loss: 26.6508 - val_loss: 27.9578\n",
            "Epoch 53/100\n",
            "240/240 [==============================] - 0s 1ms/step - loss: 26.5881 - val_loss: 24.6382\n",
            "Epoch 54/100\n",
            "240/240 [==============================] - 0s 1ms/step - loss: 27.4042 - val_loss: 24.6126\n",
            "Epoch 55/100\n",
            "240/240 [==============================] - 0s 1ms/step - loss: 26.8532 - val_loss: 25.6974\n",
            "Epoch 56/100\n",
            "240/240 [==============================] - 0s 1ms/step - loss: 26.9466 - val_loss: 27.5629\n",
            "Epoch 57/100\n",
            "240/240 [==============================] - 0s 1ms/step - loss: 27.3500 - val_loss: 27.4156\n",
            "Epoch 58/100\n",
            "240/240 [==============================] - 0s 1ms/step - loss: 27.2501 - val_loss: 24.9191\n",
            "Epoch 59/100\n",
            "240/240 [==============================] - 0s 1ms/step - loss: 27.2369 - val_loss: 26.2375\n",
            "Epoch 60/100\n",
            "240/240 [==============================] - 0s 1ms/step - loss: 26.9570 - val_loss: 25.1930\n",
            "Epoch 61/100\n",
            "240/240 [==============================] - 0s 1ms/step - loss: 26.4583 - val_loss: 24.6470\n",
            "Epoch 62/100\n",
            "240/240 [==============================] - 0s 1ms/step - loss: 26.7892 - val_loss: 25.0872\n",
            "Epoch 63/100\n",
            "240/240 [==============================] - 0s 1ms/step - loss: 26.8756 - val_loss: 24.5556\n",
            "Epoch 64/100\n",
            "240/240 [==============================] - 0s 1ms/step - loss: 26.4620 - val_loss: 24.5492\n",
            "Epoch 65/100\n",
            "240/240 [==============================] - 0s 1ms/step - loss: 27.0824 - val_loss: 33.1685\n",
            "Epoch 66/100\n",
            "240/240 [==============================] - 0s 1ms/step - loss: 26.9555 - val_loss: 25.2318\n",
            "Epoch 67/100\n",
            "240/240 [==============================] - 0s 1ms/step - loss: 26.8177 - val_loss: 26.2161\n",
            "Epoch 68/100\n",
            "240/240 [==============================] - 0s 1ms/step - loss: 26.7336 - val_loss: 24.5473\n",
            "Epoch 69/100\n",
            "240/240 [==============================] - 0s 1ms/step - loss: 26.8563 - val_loss: 24.6469\n",
            "Epoch 70/100\n",
            "240/240 [==============================] - 0s 1ms/step - loss: 26.5222 - val_loss: 24.8495\n",
            "Epoch 71/100\n",
            "240/240 [==============================] - 0s 1ms/step - loss: 26.7444 - val_loss: 24.5462\n",
            "Epoch 72/100\n",
            "240/240 [==============================] - 0s 1ms/step - loss: 26.3319 - val_loss: 24.5681\n",
            "Epoch 73/100\n",
            "240/240 [==============================] - 0s 1ms/step - loss: 27.4053 - val_loss: 29.8806\n",
            "Epoch 74/100\n",
            "240/240 [==============================] - 0s 1ms/step - loss: 26.4880 - val_loss: 24.6711\n",
            "Epoch 75/100\n",
            "240/240 [==============================] - 0s 1ms/step - loss: 26.9954 - val_loss: 25.7036\n",
            "Epoch 76/100\n",
            "240/240 [==============================] - 0s 1ms/step - loss: 26.4875 - val_loss: 27.8419\n",
            "Epoch 77/100\n",
            "240/240 [==============================] - 0s 1ms/step - loss: 26.7091 - val_loss: 27.2520\n",
            "Epoch 78/100\n",
            "240/240 [==============================] - 0s 1ms/step - loss: 26.7365 - val_loss: 26.5786\n",
            "Epoch 79/100\n",
            "240/240 [==============================] - 0s 1ms/step - loss: 26.7826 - val_loss: 40.3156\n",
            "Epoch 80/100\n",
            "240/240 [==============================] - 0s 1ms/step - loss: 27.0120 - val_loss: 25.2461\n",
            "Epoch 81/100\n",
            "240/240 [==============================] - 0s 1ms/step - loss: 26.8710 - val_loss: 26.4255\n",
            "Epoch 82/100\n",
            "240/240 [==============================] - 0s 1ms/step - loss: 26.4279 - val_loss: 25.9850\n",
            "Epoch 83/100\n",
            "240/240 [==============================] - 0s 1ms/step - loss: 26.4834 - val_loss: 25.5705\n",
            "Epoch 84/100\n",
            "240/240 [==============================] - 0s 1ms/step - loss: 26.5846 - val_loss: 28.3486\n",
            "Epoch 85/100\n",
            "240/240 [==============================] - 0s 1ms/step - loss: 26.8608 - val_loss: 24.5477\n",
            "Epoch 86/100\n",
            "240/240 [==============================] - 0s 1ms/step - loss: 26.5197 - val_loss: 24.6551\n",
            "Epoch 87/100\n",
            "240/240 [==============================] - 0s 1ms/step - loss: 26.7765 - val_loss: 24.6440\n",
            "Epoch 88/100\n",
            "240/240 [==============================] - 0s 1ms/step - loss: 26.3566 - val_loss: 24.7443\n",
            "Epoch 89/100\n",
            "240/240 [==============================] - 0s 1ms/step - loss: 27.2689 - val_loss: 25.9730\n",
            "Epoch 90/100\n",
            "240/240 [==============================] - 0s 1ms/step - loss: 27.3105 - val_loss: 26.7451\n",
            "Epoch 91/100\n",
            "240/240 [==============================] - 0s 1ms/step - loss: 26.9236 - val_loss: 32.4361\n",
            "Epoch 92/100\n",
            "240/240 [==============================] - 0s 1ms/step - loss: 26.9042 - val_loss: 25.8081\n",
            "Epoch 93/100\n",
            "240/240 [==============================] - 0s 1ms/step - loss: 26.8701 - val_loss: 26.4059\n",
            "Epoch 94/100\n",
            "240/240 [==============================] - 0s 1ms/step - loss: 26.4910 - val_loss: 24.5558\n",
            "Epoch 95/100\n",
            "240/240 [==============================] - 0s 1ms/step - loss: 26.8696 - val_loss: 24.8477\n",
            "Epoch 96/100\n",
            "240/240 [==============================] - 0s 1ms/step - loss: 26.8347 - val_loss: 24.6566\n",
            "Epoch 97/100\n",
            "240/240 [==============================] - 0s 1ms/step - loss: 26.4605 - val_loss: 26.2678\n",
            "Epoch 98/100\n",
            "240/240 [==============================] - 0s 1ms/step - loss: 26.6004 - val_loss: 27.0626\n",
            "Epoch 99/100\n",
            "240/240 [==============================] - 0s 1ms/step - loss: 27.0081 - val_loss: 24.4669\n",
            "Epoch 100/100\n",
            "240/240 [==============================] - 0s 1ms/step - loss: 26.8356 - val_loss: 25.0103\n"
          ],
          "name": "stdout"
        },
        {
          "output_type": "execute_result",
          "data": {
            "text/plain": [
              "<tensorflow.python.keras.callbacks.History at 0x7f31120e2828>"
            ]
          },
          "metadata": {
            "tags": []
          },
          "execution_count": 63
        }
      ]
    },
    {
      "cell_type": "markdown",
      "metadata": {
        "id": "0H0zKKNEBLD5",
        "colab_type": "text"
      },
      "source": [
        "### Predicting the results of the Test set"
      ]
    },
    {
      "cell_type": "code",
      "metadata": {
        "id": "IA0yApEmBG1X",
        "colab_type": "code",
        "outputId": "6b7c1cb1-93d9-4cf9-9aa2-6150c56ea579",
        "colab": {
          "base_uri": "https://localhost:8080/",
          "height": 134
        }
      },
      "source": [
        "y_pred = ann.predict(X_test)\n",
        "np.set_printoptions(precision=2)\n",
        "print(np.concatenate((y_pred.reshape(len(y_pred),1), y_test.reshape(len(y_test),1)),1))"
      ],
      "execution_count": 64,
      "outputs": [
        {
          "output_type": "stream",
          "text": [
            "[[432.26 431.23]\n",
            " [463.14 460.01]\n",
            " [466.52 461.14]\n",
            " ...\n",
            " [474.05 473.26]\n",
            " [439.61 438.  ]\n",
            " [459.23 463.28]]\n"
          ],
          "name": "stdout"
        }
      ]
    }
  ]
}