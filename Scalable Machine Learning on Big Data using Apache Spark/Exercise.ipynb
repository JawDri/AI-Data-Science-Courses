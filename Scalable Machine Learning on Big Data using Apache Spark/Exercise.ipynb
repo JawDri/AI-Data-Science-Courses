{
 "cells": [
  {
   "cell_type": "code",
   "execution_count": 12,
   "metadata": {},
   "outputs": [
    {
     "name": "stdout",
     "output_type": "stream",
     "text": [
      "+--------------+--------+\n",
      "|         class|count(1)|\n",
      "+--------------+--------+\n",
      "|      Eat_soup|    6683|\n",
      "|   Liedown_bed|   11446|\n",
      "| Use_telephone|   15225|\n",
      "|Descend_stairs|   15375|\n",
      "|     Comb_hair|   23504|\n",
      "| Sitdown_chair|   25036|\n",
      "| Standup_chair|   25417|\n",
      "|   Brush_teeth|   29829|\n",
      "|      Eat_meat|   31236|\n",
      "|  Climb_stairs|   40258|\n",
      "|    Pour_water|   41673|\n",
      "|   Drink_glass|   42792|\n",
      "|     Getup_bed|   45801|\n",
      "|          Walk|   92254|\n",
      "+--------------+--------+\n",
      "\n"
     ]
    }
   ],
   "source": [
    "spark.sql('select class,count(*) from df group by class order by count(*)').show()"
   ]
  },
  {
   "cell_type": "code",
   "execution_count": 15,
   "metadata": {},
   "outputs": [
    {
     "name": "stdout",
     "output_type": "stream",
     "text": [
      "+--------------+-----+\n",
      "|         class|count|\n",
      "+--------------+-----+\n",
      "| Use_telephone| 6683|\n",
      "| Standup_chair| 6683|\n",
      "|      Eat_meat| 6683|\n",
      "|     Getup_bed| 6683|\n",
      "|   Drink_glass| 6683|\n",
      "|    Pour_water| 6683|\n",
      "|     Comb_hair| 6683|\n",
      "|          Walk| 6683|\n",
      "|  Climb_stairs| 6683|\n",
      "| Sitdown_chair| 6683|\n",
      "|   Liedown_bed| 6683|\n",
      "|Descend_stairs| 6683|\n",
      "|   Brush_teeth| 6683|\n",
      "|      Eat_soup| 6683|\n",
      "+--------------+-----+\n",
      "\n"
     ]
    }
   ],
   "source": [
    "df_balanced.groupBy('class').count().show()\n"
   ]
  }
 ],
 "metadata": {
  "kernelspec": {
   "display_name": "Python 3.6 with Spark",
   "language": "python3",
   "name": "python36"
  },
  "language_info": {
   "codemirror_mode": {
    "name": "ipython",
    "version": 3
   },
   "file_extension": ".py",
   "mimetype": "text/x-python",
   "name": "python",
   "nbconvert_exporter": "python",
   "pygments_lexer": "ipython3",
   "version": "3.6.8"
  }
 },
 "nbformat": 4,
 "nbformat_minor": 1
}
